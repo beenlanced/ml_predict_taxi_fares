{
 "cells": [
  {
   "cell_type": "markdown",
   "id": "c43db20c",
   "metadata": {},
   "source": [
    "# Create Prediction Model"
   ]
  },
  {
   "cell_type": "markdown",
   "id": "0eab8aa6",
   "metadata": {},
   "source": [
    "## Import Modules\n"
   ]
  },
  {
   "cell_type": "code",
   "execution_count": 52,
   "id": "086afc9c",
   "metadata": {},
   "outputs": [],
   "source": [
    "import keras\n",
    "\n",
    "import matplotlib.pyplot as plt\n",
    "\n",
    "import numpy as np\n",
    "import pandas as pd\n",
    "import plotly.express as px\n",
    "from plotly.subplots import make_subplots\n",
    "import plotly.graph_objects as go\n",
    "import seaborn as sns\n",
    "\n",
    "from typing import Tuple\n"
   ]
  },
  {
   "cell_type": "markdown",
   "id": "f5199f18",
   "metadata": {
    "vscode": {
     "languageId": "plaintext"
    }
   },
   "source": [
    "### Load the data"
   ]
  },
  {
   "cell_type": "code",
   "execution_count": 53,
   "id": "41e8895b",
   "metadata": {},
   "outputs": [],
   "source": [
    "PROCESSED_DATA_PATH = (\"/Users/lancehester/Documents/ml_predict_taxi_fares/data/clean_taxi_data.csv\")"
   ]
  },
  {
   "cell_type": "code",
   "execution_count": 54,
   "id": "a77e8069",
   "metadata": {},
   "outputs": [],
   "source": [
    "# Load the marketing data as a pandas dataframe for ease of use\n",
    "fare_df = pd.read_csv(PROCESSED_DATA_PATH)"
   ]
  },
  {
   "cell_type": "markdown",
   "id": "2564c335",
   "metadata": {},
   "source": [
    "---\n",
    "\n",
    "## Training a Linear Regression Model\n",
    "\n",
    "Regression is a supervised machine learning process.  It is similar to classification, but rather than predicting a label, you try to predict a continuous value.   Linear regression defines the relationship between a target variable (y) and a set of predictive features (x).  Simply stated, If you need to predict a number, then use regression.\n",
    "\n",
    "\n",
    "Here is where I build, train, and evaluate my regression model."
   ]
  },
  {
   "cell_type": "markdown",
   "id": "44953a41",
   "metadata": {},
   "source": [
    "---\n",
    "## Build Functions to View Regressin Model Information\n",
    "\n",
    "Here I want to build helper functions (methods) to visualize what is happening during each training run. I generate two plots:\n",
    "\n",
    "* A loss curve\n",
    "* A scatter plot of the `features` vs `the label (target - fare price)` with a line showing the output of the trained model\n",
    "\n",
    "\n",
    "---"
   ]
  },
  {
   "cell_type": "code",
   "execution_count": 55,
   "id": "53c699ab",
   "metadata": {},
   "outputs": [],
   "source": [
    "# Method to make the plots\n",
    "\n",
    "def make_plots(\n",
    "    df: pd.DataFrame,\n",
    "    feature_names: list[str],\n",
    "    label_name: str,\n",
    "    model_output: keras.Model,\n",
    "    sample_size: int = 200\n",
    ") -> None:\n",
    "    \"\"\"\n",
    "    Helper Method that initiats the plotting of two figures: Loss Curves and Scatter Plots\n",
    "\n",
    "    Args:\n",
    "        df (pd.DataFrame): Pandas dataframe of taxi fare data\n",
    "        feature_names (list[str]): List of the two feature names from the data frame used to generate a scatter plot\n",
    "        label_name (str): The name of the target variable for the regression model\n",
    "        model_output (keras.Model): The generated prediction model\n",
    "        sample_size (int): Integer number used to randomly sample values from the data frame. \n",
    "\n",
    "    Returns:\n",
    "        (None): Matplotlib image out of the price sales data inputs.\n",
    "\n",
    "    \"\"\"\n",
    "    random_sample = df.sample(n=sample_size).copy()\n",
    "    random_sample.reset_index()\n",
    "\n",
    "    weights, bias, epochs, rmse = model_output\n",
    "\n",
    "    is_2d_plot = len(feature_names) == 1\n",
    "    model_plot_type = \"scatter\" if is_2d_plot else \"surface\"\n",
    "\n",
    "    fig = make_subplots(\n",
    "        rows = 1,\n",
    "        cols = 2,\n",
    "        subplot_titles = [\"Loss Curve\", \"Model Plot\"],\n",
    "        specs = [[{\"type\": \"scatter\"}, {\"type\": model_plot_type}]]\n",
    "    )\n",
    "\n",
    "    plot_data(random_sample, feature_names, label_name, fig)\n",
    "    plot_model(random_sample, feature_names, weights, bias, fig)\n",
    "    plot_loss_curve(epochs, rmse, fig)\n",
    "\n",
    "    fig.show()\n",
    "    return"
   ]
  },
  {
   "cell_type": "code",
   "execution_count": 56,
   "id": "f2032bb5",
   "metadata": {},
   "outputs": [],
   "source": [
    "def plot_loss_curve(\n",
    "    epochs: np.ndarray,\n",
    "    rmse: np.ndarray,\n",
    "    fig: go.Figure\n",
    ") -> go.Figure:\n",
    "    \"\"\"\n",
    "    Helper Method that plots model loss curves\n",
    "\n",
    "    Args:\n",
    "        epochs (np.ndarray, np.ndarray): Array of epochs\n",
    "        rmse (np.ndarray, np.ndarray): Array of rmse values at each epoch\n",
    "        fig (go.Figure): The plotly figure\n",
    "\n",
    "    Returns:\n",
    "        (go.Figure): Plotly figure\n",
    "\n",
    "    \"\"\"\n",
    "    curve = px.line(x=epochs, y=rmse)\n",
    "    curve.update_traces(line_color='#ff0000', line_width=3)\n",
    "\n",
    "    fig.append_trace(curve.data[0], row=1, col=1)\n",
    "    fig.update_xaxes(title_text=\"Epoch\", row=1, col=1)\n",
    "    fig.update_yaxes(title_text=\"Root Mean Squared Error\", row=1, col=1, range=[rmse.min()*0.8, rmse.max()])\n",
    "\n",
    "    return"
   ]
  },
  {
   "cell_type": "code",
   "execution_count": 57,
   "id": "ddc8ada0",
   "metadata": {},
   "outputs": [],
   "source": [
    "def plot_data(\n",
    "    df: pd.DataFrame,\n",
    "    feature: list[str],\n",
    "    label: str,\n",
    "    fig: go.Figure\n",
    ") -> go.Figure:\n",
    "  \"\"\"\n",
    "  Helper Method that plots the scatter plot data\n",
    "\n",
    "  Args:\n",
    "      df (pd.DataFrame): Pandas dataframe of taxi fare data\n",
    "      feature (list[str]): List of the two feature names from the data frame used to generate a scatter plot\n",
    "      label (str): The name of the target variable for the regression model\n",
    "      fig (go.Figure): Plotly figure\n",
    "\n",
    "  Returns:\n",
    "      (go.Figure): Plotly figure\n",
    "\n",
    "  \"\"\"\n",
    "  if len(features) == 1:\n",
    "      scatter = px.scatter(df, x=features[0], y=label)\n",
    "  else:\n",
    "    scatter = px.scatter_3d(df, x=features[0], y=features[1], z=label)\n",
    "\n",
    "  fig.append_trace(scatter.data[0], row=1, col=2)\n",
    "  if len(features) == 1:\n",
    "    fig.update_xaxes(title_text=features[0], row=1, col=2)\n",
    "    fig.update_yaxes(title_text=label, row=1, col=2)\n",
    "  else:\n",
    "    fig.update_layout(scene1=dict(xaxis_title=features[0], yaxis_title=features[1], zaxis_title=label))\n",
    "  return"
   ]
  },
  {
   "cell_type": "code",
   "execution_count": 58,
   "id": "8db90649",
   "metadata": {},
   "outputs": [],
   "source": [
    "def plot_model(\n",
    "    df: pd.DataFrame,\n",
    "    features: list[str],\n",
    "    weights: np.ndarray,\n",
    "    bias: np.ndarray,\n",
    "    fig: go.Figure\n",
    ") -> go.Figure:\n",
    "    \"\"\"\n",
    "    Helper Method that plots the scatter plot data\n",
    "\n",
    "    Args:\n",
    "        df (pd.DataFrame): Pandas dataframe of taxi fare data\n",
    "        feature (list[str]): List of the two feature names from the data frame used to generate a scatter plot\n",
    "        weights (np.ndarray): Numpy array of computed weight values from model\n",
    "        bias (np.ndarray): Numpy array of computed bias values from model\n",
    "        fig (go.Figure): Plotly figure\n",
    "\n",
    "    Returns:\n",
    "        (go.Figure): Plotly figure\n",
    "\n",
    "    \"\"\"\n",
    "    df[\"fare_predicted\"] = bias[0]\n",
    "\n",
    "    for index, feature in enumerate(features):\n",
    "        df[\"fare_predicted\"] = df[\"fare_predicted\"] + weights[index][0] * df[feature]\n",
    "\n",
    "    if len(features) == 1:\n",
    "        model = px.line(df, x=features[0], y=\"fare_predicted\")\n",
    "        model.update_traces(line_color='#ff0000', line_width=3)\n",
    "    else:\n",
    "        z_name, y_name = \"fare_predicted\", features[1]\n",
    "        z = [df[z_name].min(), (df[z_name].max() - df[z_name].min()) / 2, df[z_name].max()]\n",
    "        y = [df[y_name].min(), (df[y_name].max() - df[y_name].min()) / 2, df[y_name].max()]\n",
    "        x = []\n",
    "        for i in range(len(y)):\n",
    "            x.append((z[i] - weights[1][0] * y[i] - bias[0]) / weights[0][0])\n",
    "\n",
    "        plane=pd.DataFrame({'x':x, 'y':y, 'z':[z] * 3})\n",
    "\n",
    "        light_yellow = [[0, '#89CFF0'], [1, '#FFDB58']]\n",
    "        model = go.Figure(data=go.Surface(x=plane['x'], y=plane['y'], z=plane['z'],\n",
    "                                            colorscale=light_yellow))\n",
    "\n",
    "    fig.add_trace(model.data[0], row=1, col=2)\n",
    "\n",
    "    return"
   ]
  },
  {
   "cell_type": "code",
   "execution_count": 59,
   "id": "7896fcea",
   "metadata": {},
   "outputs": [],
   "source": [
    "def model_info(\n",
    "    feature_names: list[str],\n",
    "    label_name: str,\n",
    "    model_output: keras.Model,\n",
    ") -> str:\n",
    "\n",
    "    \"\"\"\n",
    "    Get Model Info\n",
    "\n",
    "    Args:\n",
    "        feature_names (list[str]): List of the two feature names from the data frame\n",
    "        label_name (str): The target/label name\n",
    "        model_output (keras.Model): Keras Model\n",
    "    Returns:\n",
    "        (str): Output of model information\n",
    "\n",
    "    \"\"\"\n",
    "    weights = model_output[0]\n",
    "    bias = model_output[1]\n",
    "\n",
    "    nl = \"\\n\"\n",
    "    header = \"-\" * 80\n",
    "    banner = header + nl + \"|\" + \"MODEL INFO\".center(78) + \"|\" + nl + header\n",
    "\n",
    "    info = \"\"\n",
    "    equation = label_name + \" = \"\n",
    "\n",
    "    for index, feature in enumerate(feature_names):\n",
    "        info = info + \"Weight for feature[{}]: {:.3f}\\n\".format(feature, weights[index][0])\n",
    "        equation = equation + \"{:.3f} * {} + \".format(weights[index][0], feature)\n",
    "\n",
    "    info = info + \"Bias: {:.3f}\\n\".format(bias[0])\n",
    "    equation = equation + \"{:.3f}\\n\".format(bias[0])\n",
    "\n",
    "    return banner + nl + info + nl + equation"
   ]
  },
  {
   "cell_type": "markdown",
   "id": "c01a6049",
   "metadata": {},
   "source": [
    "---\n",
    "## Build Functions to Create the Prediction Model\n",
    "Here I want to build functions (methods) to build the Keras Linear Regression Model.\n",
    "\n",
    "\n",
    "---"
   ]
  },
  {
   "cell_type": "code",
   "execution_count": 60,
   "id": "d4c1aad1",
   "metadata": {},
   "outputs": [],
   "source": [
    "def build_model(my_learning_rate: float, num_features: int) -> keras.Model:\n",
    "    \"\"\"\n",
    "    Method to Create and compile a simple linear regression model.\n",
    "\n",
    "    Args:\n",
    "        my_learning_rate (float): The learning rate of the model\n",
    "        num_features (int): The number of features\n",
    "        model_output (keras.Model): Keras Model\n",
    "    Returns:\n",
    "        (keras.Model): The prediction model\n",
    "    \"\"\"\n",
    "    # Describe the topography of the model.\n",
    "    # The topography of a simple linear regression model\n",
    "    # is a single node in a single layer.\n",
    "    inputs = keras.Input(shape=(num_features,))\n",
    "    outputs = keras.layers.Dense(units=1)(inputs)\n",
    "    model = keras.Model(inputs=inputs, outputs=outputs)\n",
    "\n",
    "    # Compile the model topography into code that Keras can efficiently\n",
    "    # execute. Configure training to minimize the model's mean squared error.\n",
    "    model.compile(optimizer=keras.optimizers.RMSprop(learning_rate=my_learning_rate),\n",
    "                loss=\"mean_squared_error\",\n",
    "                metrics=[keras.metrics.RootMeanSquaredError()])\n",
    "\n",
    "    return model"
   ]
  },
  {
   "cell_type": "code",
   "execution_count": 61,
   "id": "d8d81a0c",
   "metadata": {},
   "outputs": [],
   "source": [
    "def train_model(\n",
    "  model: keras.Model, \n",
    "  df: pd.DataFrame, \n",
    "  features: list[str], \n",
    "  label: str,\n",
    "  epochs: np.ndarray, \n",
    "  batch_size: int\n",
    "  ) -> Tuple[np.ndarray, np.ndarray, np.ndarray, np.ndarray]:\n",
    "  \"\"\"\n",
    "  Method to \"Train the model by feeding it data\n",
    "\n",
    "  Args:\n",
    "    model (keras.Model): The derived prediction model\n",
    "    df (pd.DataFrame): \n",
    "    features (list[str]): The features used to build the model\n",
    "    label (str): The label or target variables\n",
    "    epochs (np.ndarray): Array representing epochs\n",
    "    batch_size (int): Integer defining the number of batches used for training models\n",
    "\n",
    "  Returns:\n",
    "      (Tuple[np.ndarray, np.ndarray, np.ndarray, np.ndarray]): The prediction model key outputs\n",
    "  \"\"\"\n",
    "\n",
    "  # Feed the model the feature and the label.\n",
    "  # The model will train for the specified number of epochs.\n",
    "  # input_x = df.iloc[:,1:3].values\n",
    "  # df[feature]\n",
    "  history = model.fit(x=features,\n",
    "                      y=label,\n",
    "                      batch_size=batch_size,\n",
    "                      epochs=epochs)\n",
    "\n",
    "  # Gather the trained model's weight and bias.\n",
    "  trained_weight = model.get_weights()[0]\n",
    "  trained_bias = model.get_weights()[1]\n",
    "\n",
    "  # The list of epochs is stored separately from the rest of history.\n",
    "  epochs = history.epoch\n",
    "\n",
    "  # Isolate the error for each epoch.\n",
    "  hist = pd.DataFrame(history.history)\n",
    "\n",
    "  # To track the progression of training, we're going to take a snapshot\n",
    "  # of the model's root mean squared error at each epoch.\n",
    "  rmse = hist[\"root_mean_squared_error\"]\n",
    "\n",
    "  return trained_weight, trained_bias, epochs, rmse"
   ]
  },
  {
   "cell_type": "code",
   "execution_count": 62,
   "id": "6a857025",
   "metadata": {},
   "outputs": [],
   "source": [
    "def run_experiment(\n",
    "    df: pd.DataFrame, \n",
    "    feature_names: list[str], \n",
    "    label_name: (str), \n",
    "    learning_rate: float, \n",
    "    epochs: np.ndarray, \n",
    "    batch_size: int\n",
    "    ) -> keras.Model:\n",
    "\n",
    "  \"\"\"\n",
    "    Method to \"Train the model by feeding it data\n",
    "\n",
    "    Args:\n",
    "      df (pd.DataFrame): The taxi fare data frame of feature and values\n",
    "      feature_names (list[str]): The features used to build the model\n",
    "      label (str): The label or target variables\n",
    "      learning_rate (float): The learning rate for the keras model\n",
    "      epochs (np.ndarray): Array representing epochs\n",
    "      batch_size (int): Integer defining the number of batches used for training models\n",
    "\n",
    "    Returns:\n",
    "        (keras.Model): The prediction model\n",
    "  \"\"\"\n",
    "  print('INFO: starting training experiment with features={} and label={}\\n'.format(feature_names, label_name))\n",
    "\n",
    "  num_features = len(feature_names)\n",
    "\n",
    "  features = df.loc[:, feature_names].values\n",
    "  label = df[label_name].values\n",
    "\n",
    "  model = build_model(learning_rate, num_features)\n",
    "  model_output = train_model(model, df, features, label, epochs, batch_size)\n",
    "\n",
    "  print(\"\\nSUCCESS: training experiment complete\\n\")\n",
    "\n",
    "  print(\"{}\".format(model_info(feature_names, label_name, model_output)))\n",
    "  \n",
    "  make_plots(df, feature_names, label_name, model_output)\n",
    "\n",
    "  return model"
   ]
  },
  {
   "cell_type": "markdown",
   "id": "39619cfb",
   "metadata": {},
   "source": [
    "---\n",
    "## Train a model with one feature - Building the model a feature at a time.\n",
    "\n",
    "First, I train the model to predict the cost of the fare using a **single feature**. \n",
    "\n",
    "Earlier, I saw that `trip_miles` (distance) correlates most strongly with the ``fare``, so let's start with `trip_miles` as the feature for your first training run.\n",
    "\n",
    "\n",
    "* I took WWW epochs to converge on the final model?\n",
    "* The model fit the sample data\n",
    "\n",
    "The root mean square error (RMSE) in the output has units in (dollars) same as the label.\n",
    "\n",
    "So, I can use the RMSE to determine how far off, on average, the predicted fares are in dollars from the observed values."
   ]
  },
  {
   "cell_type": "code",
   "execution_count": 63,
   "id": "b91dc65a",
   "metadata": {},
   "outputs": [
    {
     "name": "stdout",
     "output_type": "stream",
     "text": [
      "INFO: starting training experiment with features=['trip_miles'] and label=fare\n",
      "\n",
      "Epoch 1/20\n",
      "\u001b[1m634/634\u001b[0m \u001b[32m━━━━━━━━━━━━━━━━━━━━\u001b[0m\u001b[37m\u001b[0m \u001b[1m0s\u001b[0m 256us/step - loss: 642.8674 - root_mean_squared_error: 25.3366\n",
      "Epoch 2/20\n",
      "\u001b[1m634/634\u001b[0m \u001b[32m━━━━━━━━━━━━━━━━━━━━\u001b[0m\u001b[37m\u001b[0m \u001b[1m0s\u001b[0m 257us/step - loss: 333.7891 - root_mean_squared_error: 18.2427\n",
      "Epoch 3/20\n",
      "\u001b[1m634/634\u001b[0m \u001b[32m━━━━━━━━━━━━━━━━━━━━\u001b[0m\u001b[37m\u001b[0m \u001b[1m0s\u001b[0m 245us/step - loss: 128.5249 - root_mean_squared_error: 11.3033\n",
      "Epoch 4/20\n",
      "\u001b[1m634/634\u001b[0m \u001b[32m━━━━━━━━━━━━━━━━━━━━\u001b[0m\u001b[37m\u001b[0m \u001b[1m0s\u001b[0m 246us/step - loss: 29.5891 - root_mean_squared_error: 5.4196\n",
      "Epoch 5/20\n",
      "\u001b[1m634/634\u001b[0m \u001b[32m━━━━━━━━━━━━━━━━━━━━\u001b[0m\u001b[37m\u001b[0m \u001b[1m0s\u001b[0m 241us/step - loss: 16.9769 - root_mean_squared_error: 4.1149\n",
      "Epoch 6/20\n",
      "\u001b[1m634/634\u001b[0m \u001b[32m━━━━━━━━━━━━━━━━━━━━\u001b[0m\u001b[37m\u001b[0m \u001b[1m0s\u001b[0m 240us/step - loss: 15.5384 - root_mean_squared_error: 3.9403\n",
      "Epoch 7/20\n",
      "\u001b[1m634/634\u001b[0m \u001b[32m━━━━━━━━━━━━━━━━━━━━\u001b[0m\u001b[37m\u001b[0m \u001b[1m0s\u001b[0m 239us/step - loss: 16.0821 - root_mean_squared_error: 4.0053\n",
      "Epoch 8/20\n",
      "\u001b[1m634/634\u001b[0m \u001b[32m━━━━━━━━━━━━━━━━━━━━\u001b[0m\u001b[37m\u001b[0m \u001b[1m0s\u001b[0m 234us/step - loss: 13.5092 - root_mean_squared_error: 3.6713\n",
      "Epoch 9/20\n",
      "\u001b[1m634/634\u001b[0m \u001b[32m━━━━━━━━━━━━━━━━━━━━\u001b[0m\u001b[37m\u001b[0m \u001b[1m0s\u001b[0m 235us/step - loss: 14.4535 - root_mean_squared_error: 3.7971\n",
      "Epoch 10/20\n",
      "\u001b[1m634/634\u001b[0m \u001b[32m━━━━━━━━━━━━━━━━━━━━\u001b[0m\u001b[37m\u001b[0m \u001b[1m0s\u001b[0m 235us/step - loss: 12.2680 - root_mean_squared_error: 3.4888\n",
      "Epoch 11/20\n",
      "\u001b[1m634/634\u001b[0m \u001b[32m━━━━━━━━━━━━━━━━━━━━\u001b[0m\u001b[37m\u001b[0m \u001b[1m0s\u001b[0m 233us/step - loss: 13.3017 - root_mean_squared_error: 3.6377\n",
      "Epoch 12/20\n",
      "\u001b[1m634/634\u001b[0m \u001b[32m━━━━━━━━━━━━━━━━━━━━\u001b[0m\u001b[37m\u001b[0m \u001b[1m0s\u001b[0m 238us/step - loss: 13.1976 - root_mean_squared_error: 3.6300\n",
      "Epoch 13/20\n",
      "\u001b[1m634/634\u001b[0m \u001b[32m━━━━━━━━━━━━━━━━━━━━\u001b[0m\u001b[37m\u001b[0m \u001b[1m0s\u001b[0m 232us/step - loss: 13.7457 - root_mean_squared_error: 3.7005\n",
      "Epoch 14/20\n",
      "\u001b[1m634/634\u001b[0m \u001b[32m━━━━━━━━━━━━━━━━━━━━\u001b[0m\u001b[37m\u001b[0m \u001b[1m0s\u001b[0m 233us/step - loss: 12.6089 - root_mean_squared_error: 3.5471\n",
      "Epoch 15/20\n",
      "\u001b[1m634/634\u001b[0m \u001b[32m━━━━━━━━━━━━━━━━━━━━\u001b[0m\u001b[37m\u001b[0m \u001b[1m0s\u001b[0m 234us/step - loss: 14.5988 - root_mean_squared_error: 3.8116\n",
      "Epoch 16/20\n",
      "\u001b[1m634/634\u001b[0m \u001b[32m━━━━━━━━━━━━━━━━━━━━\u001b[0m\u001b[37m\u001b[0m \u001b[1m0s\u001b[0m 233us/step - loss: 14.1484 - root_mean_squared_error: 3.7532\n",
      "Epoch 17/20\n",
      "\u001b[1m634/634\u001b[0m \u001b[32m━━━━━━━━━━━━━━━━━━━━\u001b[0m\u001b[37m\u001b[0m \u001b[1m0s\u001b[0m 233us/step - loss: 14.1190 - root_mean_squared_error: 3.7542\n",
      "Epoch 18/20\n",
      "\u001b[1m634/634\u001b[0m \u001b[32m━━━━━━━━━━━━━━━━━━━━\u001b[0m\u001b[37m\u001b[0m \u001b[1m0s\u001b[0m 234us/step - loss: 13.7991 - root_mean_squared_error: 3.7079\n",
      "Epoch 19/20\n",
      "\u001b[1m634/634\u001b[0m \u001b[32m━━━━━━━━━━━━━━━━━━━━\u001b[0m\u001b[37m\u001b[0m \u001b[1m0s\u001b[0m 234us/step - loss: 14.7581 - root_mean_squared_error: 3.8335\n",
      "Epoch 20/20\n",
      "\u001b[1m634/634\u001b[0m \u001b[32m━━━━━━━━━━━━━━━━━━━━\u001b[0m\u001b[37m\u001b[0m \u001b[1m0s\u001b[0m 242us/step - loss: 15.3563 - root_mean_squared_error: 3.9145\n",
      "\n",
      "SUCCESS: training experiment complete\n",
      "\n",
      "--------------------------------------------------------------------------------\n",
      "|                                  MODEL INFO                                  |\n",
      "--------------------------------------------------------------------------------\n",
      "Weight for feature[trip_miles]: 2.288\n",
      "Bias: 4.972\n",
      "\n",
      "fare = 2.288 * trip_miles + 4.972\n",
      "\n"
     ]
    },
    {
     "data": {
      "application/vnd.plotly.v1+json": {
       "config": {
        "plotlyServerURL": "https://plot.ly"
       },
       "data": [
        {
         "hovertemplate": "trip_miles=%{x}<br>fare=%{y}<extra></extra>",
         "legendgroup": "",
         "marker": {
          "color": "#636efa",
          "symbol": "circle"
         },
         "mode": "markers",
         "name": "",
         "orientation": "v",
         "showlegend": false,
         "type": "scatter",
         "x": {
          "bdata": "ZmZmZmZmCkDsUbgehasyQM3MzMzMzAhAcT0K16NwC0B7FK5H4XrwP1yPwvUonDFAAAAAAAAAK0CamZmZmZnxP5qZmZmZmSNA16NwPQpXMEDD9Shcj8IHQLgehetRuO4/cT0K16Nw9T/NzMzMzMwnQDMzMzMzM+M/CtejcD0KA0CkcD0K16PoPzMzMzMzMwVArkfhehQuMkDNzMzMzMwSQGZmZmZmZjJAPQrXo3A99j/hehSuR+EEQEjhehSuRyRAXI/C9SjcIEBxPQrXozAxQM3MzMzMzAhAZmZmZmZmKkCF61G4HoXrP3sUrkfhOjFAzczMzMxMMUDNzMzMzMwaQHE9CtejcO0/zczMzMzMAEBmZmZmZmb2P4XrUbgehes/MzMzMzOzJkAK16NwPQrvPzMzMzMzszJArkfhehSu/z8AAAAAAAAgQAAAAAAAADJAcT0K16Nw/T97FK5H4XowQM3MzMzMzOw/zczMzMzMJUBmZmZmZmb2P83MzMzMzPQ/CtejcD0K5z8fhetRuB4yQAAAAAAAADJASOF6FK5HMkAUrkfhepQqQArXo3A9Cg1AAAAAAAAAJUBxPQrXo/ApQHE9CtejcO0/7FG4HoXrFkCF61G4HoXzPz0K16NwPRZAH4XrUbgeDUD2KFyPwvUKQDMzMzMzM/8/9ihcj8L1AkDNzMzMzMwrQJqZmZmZmfE/AAAAAAAA4D/D9Shcj8LlPx+F61G4Hv0/MzMzMzMzLUDNzMzMzMzsP1K4HoXrEUJAcT0K16NwG0AfhetRuB4aQArXo3A9Cu8/zczMzMzMMUBcj8L1KFwyQPYoXI/CdS1AAAAAAAAAKEAUrkfhehQtQB+F61G4XjNAKVyPwvUoEkCamZmZmZnpP7gehetRuPY/CtejcD0K+z8zMzMzMzPjPz0K16Nw/TRAhetRuB6FBUAAAAAAAAAIQKRwPQrXIzJAPQrXo3A96j+amZmZmZkhQM3MzMzMzDJAw/UoXI/CE0ApXI/C9agoQArXo3A9Cv8/XI/C9ShcH0DXo3A9CtcxQBSuR+F6FBRAH4XrUbge/T97FK5H4XoUQFyPwvUoXDJAPQrXo3A9CEBmZmZmZmY+QGZmZmZmZjJAzczMzMzMMUDD9Shcj8IlQFK4HoXrUfg/KVyPwvUoLUC4HoXrUbgYQB+F61G4HilACtejcD0K+z9mZmZmZuZBQM3MzMzMzPA/hetRuB6FGUDNzMzMzMzsP1K4HoXrUeg/uB6F61G48j97FK5H4fozQFK4HoXrUQxAj8L1KFyPDkCF61G4HoUiQI/C9ShcjwRArkfhehTuMUBcj8L1KFwQQHE9CtejcBtACtejcD0KLUDD9ShcjwIxQGZmZmZmZvY/SOF6FK5HMkC4HoXrUTguQDMzMzMzMxVAAAAAAAAABEBSuB6F61H0P1K4HoXrUQpAZmZmZmbmLkApXI/C9agmQAAAAAAAAPg/mpmZmZmZGEDsUbgehaszQJqZmZmZmSFAw/UoXI9CKUAzMzMzMzMPQDMzMzMzsyRAUrgehetRMEAUrkfhehQKQBSuR+F6FA5Aj8L1KFyP4j+amZmZmZkRQM3MzMzMzBtAAAAAAAAAEkAAAAAAAAAoQB+F61G4HhRAhetRuB6FH0AzMzMzM7MxQOxRuB6F6zBAZmZmZmZmBkCamZmZmZnpP4/C9ShcTzJA9ihcj8L1MUA9CtejcD0xQLgehetRODFAMzMzMzMzIUCkcD0K16MfQAAAAAAAADFApHA9Ctej/D+uR+F6FK4UQArXo3A9CipAZmZmZmamMUAAAAAAAADwPzMzMzMzM/M/UrgehetRMUAUrkfhehT+P+F6FK5HITJAMzMzMzOzMEBcj8L1KFznP1K4HoXr0SVAw/UoXI8CM0AUrkfhehTuPylcj8L1aDJACtejcD0K9z+amZmZmZnpP1yPwvUoXAFAAAAAAAAALkCPwvUoXI/6P3sUrkfhevA/ZmZmZmZm/j+amZmZmVk7QDMzMzMzMzVAH4XrUbge+T+amZmZmZn5P+xRuB6Fa0JAw/UoXI9CKkBmZmZmZmYsQKRwPQrXYzJAAAAAAAAAHEDNzMzMzMwAQB+F61G4HgVA16NwPQrXA0BmZmZmZmbmPw==",
          "dtype": "f8"
         },
         "xaxis": "x2",
         "y": {
          "bdata": "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",
          "dtype": "f8"
         },
         "yaxis": "y2"
        },
        {
         "hovertemplate": "trip_miles=%{x}<br>fare_predicted=%{y}<extra></extra>",
         "legendgroup": "",
         "line": {
          "color": "#ff0000",
          "dash": "solid",
          "width": 3
         },
         "marker": {
          "symbol": "circle"
         },
         "mode": "lines",
         "name": "",
         "orientation": "v",
         "showlegend": false,
         "type": "scatter",
         "x": {
          "bdata": "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",
          "dtype": "f8"
         },
         "xaxis": "x2",
         "y": {
          "bdata": "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",
          "dtype": "f8"
         },
         "yaxis": "y2"
        },
        {
         "hovertemplate": "x=%{x}<br>y=%{y}<extra></extra>",
         "legendgroup": "",
         "line": {
          "color": "#ff0000",
          "dash": "solid",
          "width": 3
         },
         "marker": {
          "symbol": "circle"
         },
         "mode": "lines",
         "name": "",
         "orientation": "v",
         "showlegend": false,
         "type": "scatter",
         "x": {
          "bdata": "AAECAwQFBgcICQoLDA0ODxAREhM=",
          "dtype": "i1"
         },
         "xaxis": "x",
         "y": {
          "bdata": "AAAAAHKrN0AAAAAgAZYwQAAAAKByoyNAAAAAYNtEE0AAAACAjiIQQAAAAODuWg9AAAAAQKK4DkAAAADg1FQOQAAAAIBdIg5AAAAAQIEJDkAAAADgTf8NQAAAAAAc+w1AAAAAIBX5DUAAAABAUvcNQAAAAOAY9w1AAAAAgCj4DUAAAABASPcNQAAAAGBg9w1AAAAAQCz3DUAAAABAUPYNQA==",
          "dtype": "f8"
         },
         "yaxis": "y"
        }
       ],
       "layout": {
        "annotations": [
         {
          "font": {
           "size": 16
          },
          "showarrow": false,
          "text": "Loss Curve",
          "x": 0.225,
          "xanchor": "center",
          "xref": "paper",
          "y": 1,
          "yanchor": "bottom",
          "yref": "paper"
         },
         {
          "font": {
           "size": 16
          },
          "showarrow": false,
          "text": "Model Plot",
          "x": 0.775,
          "xanchor": "center",
          "xref": "paper",
          "y": 1,
          "yanchor": "bottom",
          "yref": "paper"
         }
        ],
        "template": {
         "data": {
          "bar": [
           {
            "error_x": {
             "color": "#2a3f5f"
            },
            "error_y": {
             "color": "#2a3f5f"
            },
            "marker": {
             "line": {
              "color": "#E5ECF6",
              "width": 0.5
             },
             "pattern": {
              "fillmode": "overlay",
              "size": 10,
              "solidity": 0.2
             }
            },
            "type": "bar"
           }
          ],
          "barpolar": [
           {
            "marker": {
             "line": {
              "color": "#E5ECF6",
              "width": 0.5
             },
             "pattern": {
              "fillmode": "overlay",
              "size": 10,
              "solidity": 0.2
             }
            },
            "type": "barpolar"
           }
          ],
          "carpet": [
           {
            "aaxis": {
             "endlinecolor": "#2a3f5f",
             "gridcolor": "white",
             "linecolor": "white",
             "minorgridcolor": "white",
             "startlinecolor": "#2a3f5f"
            },
            "baxis": {
             "endlinecolor": "#2a3f5f",
             "gridcolor": "white",
             "linecolor": "white",
             "minorgridcolor": "white",
             "startlinecolor": "#2a3f5f"
            },
            "type": "carpet"
           }
          ],
          "choropleth": [
           {
            "colorbar": {
             "outlinewidth": 0,
             "ticks": ""
            },
            "type": "choropleth"
           }
          ],
          "contour": [
           {
            "colorbar": {
             "outlinewidth": 0,
             "ticks": ""
            },
            "colorscale": [
             [
              0,
              "#0d0887"
             ],
             [
              0.1111111111111111,
              "#46039f"
             ],
             [
              0.2222222222222222,
              "#7201a8"
             ],
             [
              0.3333333333333333,
              "#9c179e"
             ],
             [
              0.4444444444444444,
              "#bd3786"
             ],
             [
              0.5555555555555556,
              "#d8576b"
             ],
             [
              0.6666666666666666,
              "#ed7953"
             ],
             [
              0.7777777777777778,
              "#fb9f3a"
             ],
             [
              0.8888888888888888,
              "#fdca26"
             ],
             [
              1,
              "#f0f921"
             ]
            ],
            "type": "contour"
           }
          ],
          "contourcarpet": [
           {
            "colorbar": {
             "outlinewidth": 0,
             "ticks": ""
            },
            "type": "contourcarpet"
           }
          ],
          "heatmap": [
           {
            "colorbar": {
             "outlinewidth": 0,
             "ticks": ""
            },
            "colorscale": [
             [
              0,
              "#0d0887"
             ],
             [
              0.1111111111111111,
              "#46039f"
             ],
             [
              0.2222222222222222,
              "#7201a8"
             ],
             [
              0.3333333333333333,
              "#9c179e"
             ],
             [
              0.4444444444444444,
              "#bd3786"
             ],
             [
              0.5555555555555556,
              "#d8576b"
             ],
             [
              0.6666666666666666,
              "#ed7953"
             ],
             [
              0.7777777777777778,
              "#fb9f3a"
             ],
             [
              0.8888888888888888,
              "#fdca26"
             ],
             [
              1,
              "#f0f921"
             ]
            ],
            "type": "heatmap"
           }
          ],
          "histogram": [
           {
            "marker": {
             "pattern": {
              "fillmode": "overlay",
              "size": 10,
              "solidity": 0.2
             }
            },
            "type": "histogram"
           }
          ],
          "histogram2d": [
           {
            "colorbar": {
             "outlinewidth": 0,
             "ticks": ""
            },
            "colorscale": [
             [
              0,
              "#0d0887"
             ],
             [
              0.1111111111111111,
              "#46039f"
             ],
             [
              0.2222222222222222,
              "#7201a8"
             ],
             [
              0.3333333333333333,
              "#9c179e"
             ],
             [
              0.4444444444444444,
              "#bd3786"
             ],
             [
              0.5555555555555556,
              "#d8576b"
             ],
             [
              0.6666666666666666,
              "#ed7953"
             ],
             [
              0.7777777777777778,
              "#fb9f3a"
             ],
             [
              0.8888888888888888,
              "#fdca26"
             ],
             [
              1,
              "#f0f921"
             ]
            ],
            "type": "histogram2d"
           }
          ],
          "histogram2dcontour": [
           {
            "colorbar": {
             "outlinewidth": 0,
             "ticks": ""
            },
            "colorscale": [
             [
              0,
              "#0d0887"
             ],
             [
              0.1111111111111111,
              "#46039f"
             ],
             [
              0.2222222222222222,
              "#7201a8"
             ],
             [
              0.3333333333333333,
              "#9c179e"
             ],
             [
              0.4444444444444444,
              "#bd3786"
             ],
             [
              0.5555555555555556,
              "#d8576b"
             ],
             [
              0.6666666666666666,
              "#ed7953"
             ],
             [
              0.7777777777777778,
              "#fb9f3a"
             ],
             [
              0.8888888888888888,
              "#fdca26"
             ],
             [
              1,
              "#f0f921"
             ]
            ],
            "type": "histogram2dcontour"
           }
          ],
          "mesh3d": [
           {
            "colorbar": {
             "outlinewidth": 0,
             "ticks": ""
            },
            "type": "mesh3d"
           }
          ],
          "parcoords": [
           {
            "line": {
             "colorbar": {
              "outlinewidth": 0,
              "ticks": ""
             }
            },
            "type": "parcoords"
           }
          ],
          "pie": [
           {
            "automargin": true,
            "type": "pie"
           }
          ],
          "scatter": [
           {
            "fillpattern": {
             "fillmode": "overlay",
             "size": 10,
             "solidity": 0.2
            },
            "type": "scatter"
           }
          ],
          "scatter3d": [
           {
            "line": {
             "colorbar": {
              "outlinewidth": 0,
              "ticks": ""
             }
            },
            "marker": {
             "colorbar": {
              "outlinewidth": 0,
              "ticks": ""
             }
            },
            "type": "scatter3d"
           }
          ],
          "scattercarpet": [
           {
            "marker": {
             "colorbar": {
              "outlinewidth": 0,
              "ticks": ""
             }
            },
            "type": "scattercarpet"
           }
          ],
          "scattergeo": [
           {
            "marker": {
             "colorbar": {
              "outlinewidth": 0,
              "ticks": ""
             }
            },
            "type": "scattergeo"
           }
          ],
          "scattergl": [
           {
            "marker": {
             "colorbar": {
              "outlinewidth": 0,
              "ticks": ""
             }
            },
            "type": "scattergl"
           }
          ],
          "scattermap": [
           {
            "marker": {
             "colorbar": {
              "outlinewidth": 0,
              "ticks": ""
             }
            },
            "type": "scattermap"
           }
          ],
          "scattermapbox": [
           {
            "marker": {
             "colorbar": {
              "outlinewidth": 0,
              "ticks": ""
             }
            },
            "type": "scattermapbox"
           }
          ],
          "scatterpolar": [
           {
            "marker": {
             "colorbar": {
              "outlinewidth": 0,
              "ticks": ""
             }
            },
            "type": "scatterpolar"
           }
          ],
          "scatterpolargl": [
           {
            "marker": {
             "colorbar": {
              "outlinewidth": 0,
              "ticks": ""
             }
            },
            "type": "scatterpolargl"
           }
          ],
          "scatterternary": [
           {
            "marker": {
             "colorbar": {
              "outlinewidth": 0,
              "ticks": ""
             }
            },
            "type": "scatterternary"
           }
          ],
          "surface": [
           {
            "colorbar": {
             "outlinewidth": 0,
             "ticks": ""
            },
            "colorscale": [
             [
              0,
              "#0d0887"
             ],
             [
              0.1111111111111111,
              "#46039f"
             ],
             [
              0.2222222222222222,
              "#7201a8"
             ],
             [
              0.3333333333333333,
              "#9c179e"
             ],
             [
              0.4444444444444444,
              "#bd3786"
             ],
             [
              0.5555555555555556,
              "#d8576b"
             ],
             [
              0.6666666666666666,
              "#ed7953"
             ],
             [
              0.7777777777777778,
              "#fb9f3a"
             ],
             [
              0.8888888888888888,
              "#fdca26"
             ],
             [
              1,
              "#f0f921"
             ]
            ],
            "type": "surface"
           }
          ],
          "table": [
           {
            "cells": {
             "fill": {
              "color": "#EBF0F8"
             },
             "line": {
              "color": "white"
             }
            },
            "header": {
             "fill": {
              "color": "#C8D4E3"
             },
             "line": {
              "color": "white"
             }
            },
            "type": "table"
           }
          ]
         },
         "layout": {
          "annotationdefaults": {
           "arrowcolor": "#2a3f5f",
           "arrowhead": 0,
           "arrowwidth": 1
          },
          "autotypenumbers": "strict",
          "coloraxis": {
           "colorbar": {
            "outlinewidth": 0,
            "ticks": ""
           }
          },
          "colorscale": {
           "diverging": [
            [
             0,
             "#8e0152"
            ],
            [
             0.1,
             "#c51b7d"
            ],
            [
             0.2,
             "#de77ae"
            ],
            [
             0.3,
             "#f1b6da"
            ],
            [
             0.4,
             "#fde0ef"
            ],
            [
             0.5,
             "#f7f7f7"
            ],
            [
             0.6,
             "#e6f5d0"
            ],
            [
             0.7,
             "#b8e186"
            ],
            [
             0.8,
             "#7fbc41"
            ],
            [
             0.9,
             "#4d9221"
            ],
            [
             1,
             "#276419"
            ]
           ],
           "sequential": [
            [
             0,
             "#0d0887"
            ],
            [
             0.1111111111111111,
             "#46039f"
            ],
            [
             0.2222222222222222,
             "#7201a8"
            ],
            [
             0.3333333333333333,
             "#9c179e"
            ],
            [
             0.4444444444444444,
             "#bd3786"
            ],
            [
             0.5555555555555556,
             "#d8576b"
            ],
            [
             0.6666666666666666,
             "#ed7953"
            ],
            [
             0.7777777777777778,
             "#fb9f3a"
            ],
            [
             0.8888888888888888,
             "#fdca26"
            ],
            [
             1,
             "#f0f921"
            ]
           ],
           "sequentialminus": [
            [
             0,
             "#0d0887"
            ],
            [
             0.1111111111111111,
             "#46039f"
            ],
            [
             0.2222222222222222,
             "#7201a8"
            ],
            [
             0.3333333333333333,
             "#9c179e"
            ],
            [
             0.4444444444444444,
             "#bd3786"
            ],
            [
             0.5555555555555556,
             "#d8576b"
            ],
            [
             0.6666666666666666,
             "#ed7953"
            ],
            [
             0.7777777777777778,
             "#fb9f3a"
            ],
            [
             0.8888888888888888,
             "#fdca26"
            ],
            [
             1,
             "#f0f921"
            ]
           ]
          },
          "colorway": [
           "#636efa",
           "#EF553B",
           "#00cc96",
           "#ab63fa",
           "#FFA15A",
           "#19d3f3",
           "#FF6692",
           "#B6E880",
           "#FF97FF",
           "#FECB52"
          ],
          "font": {
           "color": "#2a3f5f"
          },
          "geo": {
           "bgcolor": "white",
           "lakecolor": "white",
           "landcolor": "#E5ECF6",
           "showlakes": true,
           "showland": true,
           "subunitcolor": "white"
          },
          "hoverlabel": {
           "align": "left"
          },
          "hovermode": "closest",
          "mapbox": {
           "style": "light"
          },
          "paper_bgcolor": "white",
          "plot_bgcolor": "#E5ECF6",
          "polar": {
           "angularaxis": {
            "gridcolor": "white",
            "linecolor": "white",
            "ticks": ""
           },
           "bgcolor": "#E5ECF6",
           "radialaxis": {
            "gridcolor": "white",
            "linecolor": "white",
            "ticks": ""
           }
          },
          "scene": {
           "xaxis": {
            "backgroundcolor": "#E5ECF6",
            "gridcolor": "white",
            "gridwidth": 2,
            "linecolor": "white",
            "showbackground": true,
            "ticks": "",
            "zerolinecolor": "white"
           },
           "yaxis": {
            "backgroundcolor": "#E5ECF6",
            "gridcolor": "white",
            "gridwidth": 2,
            "linecolor": "white",
            "showbackground": true,
            "ticks": "",
            "zerolinecolor": "white"
           },
           "zaxis": {
            "backgroundcolor": "#E5ECF6",
            "gridcolor": "white",
            "gridwidth": 2,
            "linecolor": "white",
            "showbackground": true,
            "ticks": "",
            "zerolinecolor": "white"
           }
          },
          "shapedefaults": {
           "line": {
            "color": "#2a3f5f"
           }
          },
          "ternary": {
           "aaxis": {
            "gridcolor": "white",
            "linecolor": "white",
            "ticks": ""
           },
           "baxis": {
            "gridcolor": "white",
            "linecolor": "white",
            "ticks": ""
           },
           "bgcolor": "#E5ECF6",
           "caxis": {
            "gridcolor": "white",
            "linecolor": "white",
            "ticks": ""
           }
          },
          "title": {
           "x": 0.05
          },
          "xaxis": {
           "automargin": true,
           "gridcolor": "white",
           "linecolor": "white",
           "ticks": "",
           "title": {
            "standoff": 15
           },
           "zerolinecolor": "white",
           "zerolinewidth": 2
          },
          "yaxis": {
           "automargin": true,
           "gridcolor": "white",
           "linecolor": "white",
           "ticks": "",
           "title": {
            "standoff": 15
           },
           "zerolinecolor": "white",
           "zerolinewidth": 2
          }
         }
        },
        "xaxis": {
         "anchor": "y",
         "domain": [
          0,
          0.45
         ],
         "title": {
          "text": "Epoch"
         }
        },
        "xaxis2": {
         "anchor": "y2",
         "domain": [
          0.55,
          1
         ],
         "title": {
          "text": "trip_miles"
         }
        },
        "yaxis": {
         "anchor": "x",
         "domain": [
          0,
          1
         ],
         "range": [
          2.996216201782227,
          23.669708251953125
         ],
         "title": {
          "text": "Root Mean Squared Error"
         }
        },
        "yaxis2": {
         "anchor": "x2",
         "domain": [
          0,
          1
         ],
         "title": {
          "text": "fare"
         }
        }
       }
      }
     },
     "metadata": {},
     "output_type": "display_data"
    }
   ],
   "source": [
    "# The following variables are the hyperparameters.\n",
    "learning_rate = 0.001\n",
    "epochs = 20\n",
    "batch_size = 50\n",
    "\n",
    "# Specify the feature and the label.\n",
    "features = [\"trip_miles\"]\n",
    "label = \"fare\"\n",
    "\n",
    "model_1 = run_experiment(fare_df, features, label, learning_rate, epochs, batch_size)"
   ]
  },
  {
   "cell_type": "markdown",
   "id": "0a2ff2bb",
   "metadata": {},
   "source": [
    "## Results of the first trial with only `trip_miles`\n",
    "\n",
    "* With this set of hyperparameters\n",
    "    * Learning Rate = 0.001\n",
    "    * Epochs = 20\n",
    "    * batch size Equal to 50 \n",
    "\n",
    "The loss appears to level off at about 5 Epochs for the training data, so we can say it start so converge to the final model at that point.\n",
    "\n",
    "In the scatter plot of fare vs trip_miles the derived model appears to fit the data fairly well. \n",
    "\n",
    "\n",
    "# Despite these results it is worth checking to see if I can tweak the hyperparameters a bit more and improve performance.\n"
   ]
  },
  {
   "cell_type": "markdown",
   "id": "6bfdfd35",
   "metadata": {},
   "source": [
    "# Second Experiment - Adjusting the Hyperparameters - Increasing the Learning Rate\n",
    "\n",
    "* With this set of hyperparameters\n",
    "    * Learning Rate = 1.0\n",
    "    * Epochs = 20\n",
    "    * batch size Equal to 50 "
   ]
  },
  {
   "cell_type": "code",
   "execution_count": 64,
   "id": "52a723ab",
   "metadata": {},
   "outputs": [
    {
     "name": "stdout",
     "output_type": "stream",
     "text": [
      "INFO: starting training experiment with features=['trip_miles'] and label=fare\n",
      "\n",
      "Epoch 1/20\n",
      "\u001b[1m634/634\u001b[0m \u001b[32m━━━━━━━━━━━━━━━━━━━━\u001b[0m\u001b[37m\u001b[0m \u001b[1m0s\u001b[0m 251us/step - loss: 52.1202 - root_mean_squared_error: 7.1719\n",
      "Epoch 2/20\n",
      "\u001b[1m634/634\u001b[0m \u001b[32m━━━━━━━━━━━━━━━━━━━━\u001b[0m\u001b[37m\u001b[0m \u001b[1m0s\u001b[0m 236us/step - loss: 48.6708 - root_mean_squared_error: 6.9656\n",
      "Epoch 3/20\n",
      "\u001b[1m634/634\u001b[0m \u001b[32m━━━━━━━━━━━━━━━━━━━━\u001b[0m\u001b[37m\u001b[0m \u001b[1m0s\u001b[0m 233us/step - loss: 49.0503 - root_mean_squared_error: 6.9969\n",
      "Epoch 4/20\n",
      "\u001b[1m634/634\u001b[0m \u001b[32m━━━━━━━━━━━━━━━━━━━━\u001b[0m\u001b[37m\u001b[0m \u001b[1m0s\u001b[0m 232us/step - loss: 48.4130 - root_mean_squared_error: 6.9513\n",
      "Epoch 5/20\n",
      "\u001b[1m634/634\u001b[0m \u001b[32m━━━━━━━━━━━━━━━━━━━━\u001b[0m\u001b[37m\u001b[0m \u001b[1m0s\u001b[0m 235us/step - loss: 48.5981 - root_mean_squared_error: 6.9674\n",
      "Epoch 6/20\n",
      "\u001b[1m634/634\u001b[0m \u001b[32m━━━━━━━━━━━━━━━━━━━━\u001b[0m\u001b[37m\u001b[0m \u001b[1m0s\u001b[0m 233us/step - loss: 48.4646 - root_mean_squared_error: 6.9579\n",
      "Epoch 7/20\n",
      "\u001b[1m634/634\u001b[0m \u001b[32m━━━━━━━━━━━━━━━━━━━━\u001b[0m\u001b[37m\u001b[0m \u001b[1m0s\u001b[0m 253us/step - loss: 47.6122 - root_mean_squared_error: 6.8972\n",
      "Epoch 8/20\n",
      "\u001b[1m634/634\u001b[0m \u001b[32m━━━━━━━━━━━━━━━━━━━━\u001b[0m\u001b[37m\u001b[0m \u001b[1m0s\u001b[0m 241us/step - loss: 51.2107 - root_mean_squared_error: 7.1320\n",
      "Epoch 9/20\n",
      "\u001b[1m634/634\u001b[0m \u001b[32m━━━━━━━━━━━━━━━━━━━━\u001b[0m\u001b[37m\u001b[0m \u001b[1m0s\u001b[0m 241us/step - loss: 46.3105 - root_mean_squared_error: 6.7897\n",
      "Epoch 10/20\n",
      "\u001b[1m634/634\u001b[0m \u001b[32m━━━━━━━━━━━━━━━━━━━━\u001b[0m\u001b[37m\u001b[0m \u001b[1m0s\u001b[0m 235us/step - loss: 48.7281 - root_mean_squared_error: 6.9689\n",
      "Epoch 11/20\n",
      "\u001b[1m634/634\u001b[0m \u001b[32m━━━━━━━━━━━━━━━━━━━━\u001b[0m\u001b[37m\u001b[0m \u001b[1m0s\u001b[0m 234us/step - loss: 46.5023 - root_mean_squared_error: 6.8151\n",
      "Epoch 12/20\n",
      "\u001b[1m634/634\u001b[0m \u001b[32m━━━━━━━━━━━━━━━━━━━━\u001b[0m\u001b[37m\u001b[0m \u001b[1m0s\u001b[0m 236us/step - loss: 46.3940 - root_mean_squared_error: 6.7764\n",
      "Epoch 13/20\n",
      "\u001b[1m634/634\u001b[0m \u001b[32m━━━━━━━━━━━━━━━━━━━━\u001b[0m\u001b[37m\u001b[0m \u001b[1m0s\u001b[0m 235us/step - loss: 45.0776 - root_mean_squared_error: 6.6994\n",
      "Epoch 14/20\n",
      "\u001b[1m634/634\u001b[0m \u001b[32m━━━━━━━━━━━━━━━━━━━━\u001b[0m\u001b[37m\u001b[0m \u001b[1m0s\u001b[0m 234us/step - loss: 49.8264 - root_mean_squared_error: 7.0450\n",
      "Epoch 15/20\n",
      "\u001b[1m634/634\u001b[0m \u001b[32m━━━━━━━━━━━━━━━━━━━━\u001b[0m\u001b[37m\u001b[0m \u001b[1m0s\u001b[0m 235us/step - loss: 45.9178 - root_mean_squared_error: 6.7706\n",
      "Epoch 16/20\n",
      "\u001b[1m634/634\u001b[0m \u001b[32m━━━━━━━━━━━━━━━━━━━━\u001b[0m\u001b[37m\u001b[0m \u001b[1m0s\u001b[0m 236us/step - loss: 46.2440 - root_mean_squared_error: 6.7917\n",
      "Epoch 17/20\n",
      "\u001b[1m634/634\u001b[0m \u001b[32m━━━━━━━━━━━━━━━━━━━━\u001b[0m\u001b[37m\u001b[0m \u001b[1m0s\u001b[0m 238us/step - loss: 47.8346 - root_mean_squared_error: 6.9108\n",
      "Epoch 18/20\n",
      "\u001b[1m634/634\u001b[0m \u001b[32m━━━━━━━━━━━━━━━━━━━━\u001b[0m\u001b[37m\u001b[0m \u001b[1m0s\u001b[0m 233us/step - loss: 47.6168 - root_mean_squared_error: 6.8982\n",
      "Epoch 19/20\n",
      "\u001b[1m634/634\u001b[0m \u001b[32m━━━━━━━━━━━━━━━━━━━━\u001b[0m\u001b[37m\u001b[0m \u001b[1m0s\u001b[0m 234us/step - loss: 47.9962 - root_mean_squared_error: 6.9203\n",
      "Epoch 20/20\n",
      "\u001b[1m634/634\u001b[0m \u001b[32m━━━━━━━━━━━━━━━━━━━━\u001b[0m\u001b[37m\u001b[0m \u001b[1m0s\u001b[0m 232us/step - loss: 44.0847 - root_mean_squared_error: 6.6074\n",
      "\n",
      "SUCCESS: training experiment complete\n",
      "\n",
      "--------------------------------------------------------------------------------\n",
      "|                                  MODEL INFO                                  |\n",
      "--------------------------------------------------------------------------------\n",
      "Weight for feature[trip_miles]: 1.213\n",
      "Bias: 4.178\n",
      "\n",
      "fare = 1.213 * trip_miles + 4.178\n",
      "\n"
     ]
    },
    {
     "data": {
      "application/vnd.plotly.v1+json": {
       "config": {
        "plotlyServerURL": "https://plot.ly"
       },
       "data": [
        {
         "hovertemplate": "trip_miles=%{x}<br>fare=%{y}<extra></extra>",
         "legendgroup": "",
         "marker": {
          "color": "#636efa",
          "symbol": "circle"
         },
         "mode": "markers",
         "name": "",
         "orientation": "v",
         "showlegend": false,
         "type": "scatter",
         "x": {
          "bdata": "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",
          "dtype": "f8"
         },
         "xaxis": "x2",
         "y": {
          "bdata": "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",
          "dtype": "f8"
         },
         "yaxis": "y2"
        },
        {
         "hovertemplate": "trip_miles=%{x}<br>fare_predicted=%{y}<extra></extra>",
         "legendgroup": "",
         "line": {
          "color": "#ff0000",
          "dash": "solid",
          "width": 3
         },
         "marker": {
          "symbol": "circle"
         },
         "mode": "lines",
         "name": "",
         "orientation": "v",
         "showlegend": false,
         "type": "scatter",
         "x": {
          "bdata": "9ihcj8L19D+PwvUoXI/6P2ZmZmZmZuY/mpmZmZmZKUAAAAAAAAAwQFyPwvUoXPM/mpmZmZnZMEBI4XoUrocxQNejcD0K1/s/rkfhehQuMUD2KFyPwvUcQJqZmZmZmStAMzMzMzMzBUAUrkfhehT6P4XrUbgehf8/uB6F61G4+j9SuB6F61EYQAAAAAAAgDNAzczMzMzM9D+uR+F6FK4DQMP1KFyPwgNASOF6FK5H9T+amZmZmZkxQLgehetRODBAw/UoXI/CC0AAAAAAAAAvQGZmZmZmZuY/16NwPQrXAUAAAAAAAAAmQM3MzMzMzDJAcT0K16NwKEBmZmZmZmYOQI/C9Shcj/Y/9ihcj8L1+D8pXI/C9eg3QMP1KFyPQiZAH4XrUbieJ0DNzMzMzMz8Px+F61G4nitA7FG4HoWrNEAAAAAAAAD4P2ZmZmZmZuY/16NwPQrXO0DsUbgehev5P2ZmZmZmZhJAAAAAAAAAHECamZmZmZkBQClcj8L1qCpA7FG4HoVrLEBcj8L1KFwTQEjhehSuRxVAmpmZmZmZ6T8AAAAAAAAyQLgehetRuDBArkfhehSu/z+F61G4HoUoQClcj8L1qCFAuB6F61G4JkCuR+F6FC4lQOF6FK5H4fY/MzMzMzMzA0DD9Shcj8IBQM3MzMzMzDFAMzMzMzOzMUCF61G4HoXrP2ZmZmZmZjRA4XoUrkfhMUD2KFyPwnUtQArXo3A9Cuc/AAAAAAAA8D8fhetRuB4iQI/C9ShcDyNAzczMzMzM7D8zMzMzMzPjP4/C9Shcj/o/MzMzMzMz8z8zMzMzMzPzP83MzMzMzARAKVyPwvWoLEDNzMzMzMwAQD0K16NwPR5AmpmZmZkZMkCamZmZmZkbQM3MzMzMzDFAZmZmZmZmGkBmZmZmZmb2P2ZmZmZmZitAAAAAAAAAJUAzMzMzMzMHQJqZmZmZWTJAAAAAAAAABECPwvUoXI8dQAAAAAAAADFAzczMzMzM/D+PwvUoXI8QQAAAAAAAACZAexSuR+F68D8K16NwPQrzP4/C9ShcjxtAmpmZmZmZ6T9xPQrXozAzQFyPwvUoXOc/uB6F61E4LECPwvUoXI/6P5qZmZmZmfk/mpmZmZmZE0CF61G4HgUyQJqZmZmZmfE/PQrXo3A9/j8zMzMzM3MxQHsUrkfhOjJAZmZmZmZm5j8zMzMzMzM0QLgehetRuCRAuB6F61G4KkDNzMzMzMz0P5qZmZmZmfk/mpmZmZmZJ0A9CtejcD3iPzMzMzMzMylACtejcD0KKUBxPQrXo/AiQHE9CtejMDFACtejcD2KKUC4HoXrUbjuP+F6FK5H4QpAKVyPwvUo/D/sUbgehWslQGZmZmZmZjNAzczMzMzMAEAzMzMzMzMDQArXo3A9SjFAMzMzMzMz9z+PwvUoXI/qP2ZmZmZmZixA16NwPQrXMkCamZmZmZkvQClcj8L1KOQ/j8L1KFyPEUApXI/C9SjsP9ejcD0K1wNAAAAAAAAA9D/hehSuR+EUQFyPwvUoXPM/exSuR+F6MkCuR+F6FC4yQMP1KFyPwhdAPQrXo3A9K0DNzMzMzMzsP1yPwvUonDFAAAAAAAAAFEApXI/C9SgKQDMzMzMzMyRA7FG4HoXr/T8zMzMzMzMHQOF6FK5HYTpA7FG4HoXrGEAUrkfhehT2PwAAAAAAAPg/exSuR+F69D9mZmZmZmb2P4/C9ShcjydAKVyPwvUoDkCamZmZmZkBQD0K16NwPSpAAAAAAAAAJEBcj8L1KFwDQOxRuB6F6xhAzczMzMzM9D9cj8L1KFwLQJqZmZmZmfk/SOF6FK5HLUDhehSuR2EgQDMzMzMzszNAexSuR+F6EUDNzMzMzMwZQOxRuB6F6xRA9ihcj8I1P0CPwvUoXM8xQM3MzMzMzAxAzczMzMzMKEAAAAAAAAA6QPYoXI/CdSJAMzMzMzOzNEDsUbgehev9P83MzMzMzPw/hetRuB4FKECuR+F6FK73P1K4HoXr0S5AzczMzMzMKEDNzMzMzMwUQIXrUbgehes/FK5H4XoU/j9SuB6F69ExQM3MzMzMzC9AmpmZmZmZ6T9SuB6F61EGQAAAAAAAAPA/MzMzMzMzB0BmZmZmZmYaQA==",
          "dtype": "f8"
         },
         "xaxis": "x2",
         "y": {
          "bdata": "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",
          "dtype": "f8"
         },
         "yaxis": "y2"
        },
        {
         "hovertemplate": "x=%{x}<br>y=%{y}<extra></extra>",
         "legendgroup": "",
         "line": {
          "color": "#ff0000",
          "dash": "solid",
          "width": 3
         },
         "marker": {
          "symbol": "circle"
         },
         "mode": "lines",
         "name": "",
         "orientation": "v",
         "showlegend": false,
         "type": "scatter",
         "x": {
          "bdata": "AAECAwQFBgcICQoLDA0ODxAREhM=",
          "dtype": "i1"
         },
         "xaxis": "x",
         "y": {
          "bdata": "AAAAoJrNG0AAAAAARpwbQAAAAKC0oxtAAAAAYDOaG0AAAACAssQbQAAAAMCfthtAAAAA4HWXG0AAAADgf+sbQAAAAKA/WxtAAAAAoEitG0AAAAAA2dsbQAAAAGDukhtAAAAAIFVwG0AAAADA/9wbQAAAACB9xBtAAAAAoCC8G0AAAABglo4bQAAAAOAqjRtAAAAAQOzPG0AAAACA5YIbQA==",
          "dtype": "f8"
         },
         "yaxis": "y"
        }
       ],
       "layout": {
        "annotations": [
         {
          "font": {
           "size": 16
          },
          "showarrow": false,
          "text": "Loss Curve",
          "x": 0.225,
          "xanchor": "center",
          "xref": "paper",
          "y": 1,
          "yanchor": "bottom",
          "yref": "paper"
         },
         {
          "font": {
           "size": 16
          },
          "showarrow": false,
          "text": "Model Plot",
          "x": 0.775,
          "xanchor": "center",
          "xref": "paper",
          "y": 1,
          "yanchor": "bottom",
          "yref": "paper"
         }
        ],
        "template": {
         "data": {
          "bar": [
           {
            "error_x": {
             "color": "#2a3f5f"
            },
            "error_y": {
             "color": "#2a3f5f"
            },
            "marker": {
             "line": {
              "color": "#E5ECF6",
              "width": 0.5
             },
             "pattern": {
              "fillmode": "overlay",
              "size": 10,
              "solidity": 0.2
             }
            },
            "type": "bar"
           }
          ],
          "barpolar": [
           {
            "marker": {
             "line": {
              "color": "#E5ECF6",
              "width": 0.5
             },
             "pattern": {
              "fillmode": "overlay",
              "size": 10,
              "solidity": 0.2
             }
            },
            "type": "barpolar"
           }
          ],
          "carpet": [
           {
            "aaxis": {
             "endlinecolor": "#2a3f5f",
             "gridcolor": "white",
             "linecolor": "white",
             "minorgridcolor": "white",
             "startlinecolor": "#2a3f5f"
            },
            "baxis": {
             "endlinecolor": "#2a3f5f",
             "gridcolor": "white",
             "linecolor": "white",
             "minorgridcolor": "white",
             "startlinecolor": "#2a3f5f"
            },
            "type": "carpet"
           }
          ],
          "choropleth": [
           {
            "colorbar": {
             "outlinewidth": 0,
             "ticks": ""
            },
            "type": "choropleth"
           }
          ],
          "contour": [
           {
            "colorbar": {
             "outlinewidth": 0,
             "ticks": ""
            },
            "colorscale": [
             [
              0,
              "#0d0887"
             ],
             [
              0.1111111111111111,
              "#46039f"
             ],
             [
              0.2222222222222222,
              "#7201a8"
             ],
             [
              0.3333333333333333,
              "#9c179e"
             ],
             [
              0.4444444444444444,
              "#bd3786"
             ],
             [
              0.5555555555555556,
              "#d8576b"
             ],
             [
              0.6666666666666666,
              "#ed7953"
             ],
             [
              0.7777777777777778,
              "#fb9f3a"
             ],
             [
              0.8888888888888888,
              "#fdca26"
             ],
             [
              1,
              "#f0f921"
             ]
            ],
            "type": "contour"
           }
          ],
          "contourcarpet": [
           {
            "colorbar": {
             "outlinewidth": 0,
             "ticks": ""
            },
            "type": "contourcarpet"
           }
          ],
          "heatmap": [
           {
            "colorbar": {
             "outlinewidth": 0,
             "ticks": ""
            },
            "colorscale": [
             [
              0,
              "#0d0887"
             ],
             [
              0.1111111111111111,
              "#46039f"
             ],
             [
              0.2222222222222222,
              "#7201a8"
             ],
             [
              0.3333333333333333,
              "#9c179e"
             ],
             [
              0.4444444444444444,
              "#bd3786"
             ],
             [
              0.5555555555555556,
              "#d8576b"
             ],
             [
              0.6666666666666666,
              "#ed7953"
             ],
             [
              0.7777777777777778,
              "#fb9f3a"
             ],
             [
              0.8888888888888888,
              "#fdca26"
             ],
             [
              1,
              "#f0f921"
             ]
            ],
            "type": "heatmap"
           }
          ],
          "histogram": [
           {
            "marker": {
             "pattern": {
              "fillmode": "overlay",
              "size": 10,
              "solidity": 0.2
             }
            },
            "type": "histogram"
           }
          ],
          "histogram2d": [
           {
            "colorbar": {
             "outlinewidth": 0,
             "ticks": ""
            },
            "colorscale": [
             [
              0,
              "#0d0887"
             ],
             [
              0.1111111111111111,
              "#46039f"
             ],
             [
              0.2222222222222222,
              "#7201a8"
             ],
             [
              0.3333333333333333,
              "#9c179e"
             ],
             [
              0.4444444444444444,
              "#bd3786"
             ],
             [
              0.5555555555555556,
              "#d8576b"
             ],
             [
              0.6666666666666666,
              "#ed7953"
             ],
             [
              0.7777777777777778,
              "#fb9f3a"
             ],
             [
              0.8888888888888888,
              "#fdca26"
             ],
             [
              1,
              "#f0f921"
             ]
            ],
            "type": "histogram2d"
           }
          ],
          "histogram2dcontour": [
           {
            "colorbar": {
             "outlinewidth": 0,
             "ticks": ""
            },
            "colorscale": [
             [
              0,
              "#0d0887"
             ],
             [
              0.1111111111111111,
              "#46039f"
             ],
             [
              0.2222222222222222,
              "#7201a8"
             ],
             [
              0.3333333333333333,
              "#9c179e"
             ],
             [
              0.4444444444444444,
              "#bd3786"
             ],
             [
              0.5555555555555556,
              "#d8576b"
             ],
             [
              0.6666666666666666,
              "#ed7953"
             ],
             [
              0.7777777777777778,
              "#fb9f3a"
             ],
             [
              0.8888888888888888,
              "#fdca26"
             ],
             [
              1,
              "#f0f921"
             ]
            ],
            "type": "histogram2dcontour"
           }
          ],
          "mesh3d": [
           {
            "colorbar": {
             "outlinewidth": 0,
             "ticks": ""
            },
            "type": "mesh3d"
           }
          ],
          "parcoords": [
           {
            "line": {
             "colorbar": {
              "outlinewidth": 0,
              "ticks": ""
             }
            },
            "type": "parcoords"
           }
          ],
          "pie": [
           {
            "automargin": true,
            "type": "pie"
           }
          ],
          "scatter": [
           {
            "fillpattern": {
             "fillmode": "overlay",
             "size": 10,
             "solidity": 0.2
            },
            "type": "scatter"
           }
          ],
          "scatter3d": [
           {
            "line": {
             "colorbar": {
              "outlinewidth": 0,
              "ticks": ""
             }
            },
            "marker": {
             "colorbar": {
              "outlinewidth": 0,
              "ticks": ""
             }
            },
            "type": "scatter3d"
           }
          ],
          "scattercarpet": [
           {
            "marker": {
             "colorbar": {
              "outlinewidth": 0,
              "ticks": ""
             }
            },
            "type": "scattercarpet"
           }
          ],
          "scattergeo": [
           {
            "marker": {
             "colorbar": {
              "outlinewidth": 0,
              "ticks": ""
             }
            },
            "type": "scattergeo"
           }
          ],
          "scattergl": [
           {
            "marker": {
             "colorbar": {
              "outlinewidth": 0,
              "ticks": ""
             }
            },
            "type": "scattergl"
           }
          ],
          "scattermap": [
           {
            "marker": {
             "colorbar": {
              "outlinewidth": 0,
              "ticks": ""
             }
            },
            "type": "scattermap"
           }
          ],
          "scattermapbox": [
           {
            "marker": {
             "colorbar": {
              "outlinewidth": 0,
              "ticks": ""
             }
            },
            "type": "scattermapbox"
           }
          ],
          "scatterpolar": [
           {
            "marker": {
             "colorbar": {
              "outlinewidth": 0,
              "ticks": ""
             }
            },
            "type": "scatterpolar"
           }
          ],
          "scatterpolargl": [
           {
            "marker": {
             "colorbar": {
              "outlinewidth": 0,
              "ticks": ""
             }
            },
            "type": "scatterpolargl"
           }
          ],
          "scatterternary": [
           {
            "marker": {
             "colorbar": {
              "outlinewidth": 0,
              "ticks": ""
             }
            },
            "type": "scatterternary"
           }
          ],
          "surface": [
           {
            "colorbar": {
             "outlinewidth": 0,
             "ticks": ""
            },
            "colorscale": [
             [
              0,
              "#0d0887"
             ],
             [
              0.1111111111111111,
              "#46039f"
             ],
             [
              0.2222222222222222,
              "#7201a8"
             ],
             [
              0.3333333333333333,
              "#9c179e"
             ],
             [
              0.4444444444444444,
              "#bd3786"
             ],
             [
              0.5555555555555556,
              "#d8576b"
             ],
             [
              0.6666666666666666,
              "#ed7953"
             ],
             [
              0.7777777777777778,
              "#fb9f3a"
             ],
             [
              0.8888888888888888,
              "#fdca26"
             ],
             [
              1,
              "#f0f921"
             ]
            ],
            "type": "surface"
           }
          ],
          "table": [
           {
            "cells": {
             "fill": {
              "color": "#EBF0F8"
             },
             "line": {
              "color": "white"
             }
            },
            "header": {
             "fill": {
              "color": "#C8D4E3"
             },
             "line": {
              "color": "white"
             }
            },
            "type": "table"
           }
          ]
         },
         "layout": {
          "annotationdefaults": {
           "arrowcolor": "#2a3f5f",
           "arrowhead": 0,
           "arrowwidth": 1
          },
          "autotypenumbers": "strict",
          "coloraxis": {
           "colorbar": {
            "outlinewidth": 0,
            "ticks": ""
           }
          },
          "colorscale": {
           "diverging": [
            [
             0,
             "#8e0152"
            ],
            [
             0.1,
             "#c51b7d"
            ],
            [
             0.2,
             "#de77ae"
            ],
            [
             0.3,
             "#f1b6da"
            ],
            [
             0.4,
             "#fde0ef"
            ],
            [
             0.5,
             "#f7f7f7"
            ],
            [
             0.6,
             "#e6f5d0"
            ],
            [
             0.7,
             "#b8e186"
            ],
            [
             0.8,
             "#7fbc41"
            ],
            [
             0.9,
             "#4d9221"
            ],
            [
             1,
             "#276419"
            ]
           ],
           "sequential": [
            [
             0,
             "#0d0887"
            ],
            [
             0.1111111111111111,
             "#46039f"
            ],
            [
             0.2222222222222222,
             "#7201a8"
            ],
            [
             0.3333333333333333,
             "#9c179e"
            ],
            [
             0.4444444444444444,
             "#bd3786"
            ],
            [
             0.5555555555555556,
             "#d8576b"
            ],
            [
             0.6666666666666666,
             "#ed7953"
            ],
            [
             0.7777777777777778,
             "#fb9f3a"
            ],
            [
             0.8888888888888888,
             "#fdca26"
            ],
            [
             1,
             "#f0f921"
            ]
           ],
           "sequentialminus": [
            [
             0,
             "#0d0887"
            ],
            [
             0.1111111111111111,
             "#46039f"
            ],
            [
             0.2222222222222222,
             "#7201a8"
            ],
            [
             0.3333333333333333,
             "#9c179e"
            ],
            [
             0.4444444444444444,
             "#bd3786"
            ],
            [
             0.5555555555555556,
             "#d8576b"
            ],
            [
             0.6666666666666666,
             "#ed7953"
            ],
            [
             0.7777777777777778,
             "#fb9f3a"
            ],
            [
             0.8888888888888888,
             "#fdca26"
            ],
            [
             1,
             "#f0f921"
            ]
           ]
          },
          "colorway": [
           "#636efa",
           "#EF553B",
           "#00cc96",
           "#ab63fa",
           "#FFA15A",
           "#19d3f3",
           "#FF6692",
           "#B6E880",
           "#FF97FF",
           "#FECB52"
          ],
          "font": {
           "color": "#2a3f5f"
          },
          "geo": {
           "bgcolor": "white",
           "lakecolor": "white",
           "landcolor": "#E5ECF6",
           "showlakes": true,
           "showland": true,
           "subunitcolor": "white"
          },
          "hoverlabel": {
           "align": "left"
          },
          "hovermode": "closest",
          "mapbox": {
           "style": "light"
          },
          "paper_bgcolor": "white",
          "plot_bgcolor": "#E5ECF6",
          "polar": {
           "angularaxis": {
            "gridcolor": "white",
            "linecolor": "white",
            "ticks": ""
           },
           "bgcolor": "#E5ECF6",
           "radialaxis": {
            "gridcolor": "white",
            "linecolor": "white",
            "ticks": ""
           }
          },
          "scene": {
           "xaxis": {
            "backgroundcolor": "#E5ECF6",
            "gridcolor": "white",
            "gridwidth": 2,
            "linecolor": "white",
            "showbackground": true,
            "ticks": "",
            "zerolinecolor": "white"
           },
           "yaxis": {
            "backgroundcolor": "#E5ECF6",
            "gridcolor": "white",
            "gridwidth": 2,
            "linecolor": "white",
            "showbackground": true,
            "ticks": "",
            "zerolinecolor": "white"
           },
           "zaxis": {
            "backgroundcolor": "#E5ECF6",
            "gridcolor": "white",
            "gridwidth": 2,
            "linecolor": "white",
            "showbackground": true,
            "ticks": "",
            "zerolinecolor": "white"
           }
          },
          "shapedefaults": {
           "line": {
            "color": "#2a3f5f"
           }
          },
          "ternary": {
           "aaxis": {
            "gridcolor": "white",
            "linecolor": "white",
            "ticks": ""
           },
           "baxis": {
            "gridcolor": "white",
            "linecolor": "white",
            "ticks": ""
           },
           "bgcolor": "#E5ECF6",
           "caxis": {
            "gridcolor": "white",
            "linecolor": "white",
            "ticks": ""
           }
          },
          "title": {
           "x": 0.05
          },
          "xaxis": {
           "automargin": true,
           "gridcolor": "white",
           "linecolor": "white",
           "ticks": "",
           "title": {
            "standoff": 15
           },
           "zerolinecolor": "white",
           "zerolinewidth": 2
          },
          "yaxis": {
           "automargin": true,
           "gridcolor": "white",
           "linecolor": "white",
           "ticks": "",
           "title": {
            "standoff": 15
           },
           "zerolinecolor": "white",
           "zerolinewidth": 2
          }
         }
        },
        "xaxis": {
         "anchor": "y",
         "domain": [
          0,
          0.45
         ],
         "title": {
          "text": "Epoch"
         }
        },
        "xaxis2": {
         "anchor": "y2",
         "domain": [
          0.55,
          1
         ],
         "title": {
          "text": "trip_miles"
         }
        },
        "yaxis": {
         "anchor": "x",
         "domain": [
          0,
          1
         ],
         "range": [
          5.4712879180908205,
          6.979979991912842
         ],
         "title": {
          "text": "Root Mean Squared Error"
         }
        },
        "yaxis2": {
         "anchor": "x2",
         "domain": [
          0,
          1
         ],
         "title": {
          "text": "fare"
         }
        }
       }
      }
     },
     "metadata": {},
     "output_type": "display_data"
    }
   ],
   "source": [
    "# The following variables are the hyperparameters.\n",
    "learning_rate = 1.0\n",
    "epochs = 20\n",
    "batch_size = 50\n",
    "\n",
    "# Specify the feature and the label.\n",
    "features = [\"trip_miles\"]\n",
    "label = \"fare\"\n",
    "\n",
    "model_1 = run_experiment(fare_df, features, label, learning_rate, epochs, batch_size)"
   ]
  },
  {
   "cell_type": "markdown",
   "id": "b43e375f",
   "metadata": {},
   "source": [
    "## Results of the Second trial with only `trip_miles` - Increasing learning rate to 1.0\n",
    "\n",
    "* With this set of hyperparameters\n",
    "    * Learning Rate = 1.0\n",
    "    * Epochs = 20\n",
    "    * batch size Equal to 50 \n",
    "\n",
    "In neural networks, the learning rate is a multiplier that controls the degree to which each backward pass increases or decreases each weight. A large learning rate will increase or decrease each weight more than a small learning rate.\n",
    "\n",
    "The issue with a large learning rate is that it can slow down model training because it can cause large fluctuations in weight values which in turn increase the amount of time for the model to converge. \n",
    "\n",
    "In this example, I see that the loss rate curve bounces around and does not appear to converge with each iteration. Additionally, the eventual predicted model does not fit the data very well. I am not getting good results. I will not use this model."
   ]
  },
  {
   "cell_type": "markdown",
   "id": "1c4b08ea",
   "metadata": {},
   "source": [
    "# Third Experiment - Adjusting the Hyperparameters - Decreasing the learning rate\n",
    "\n",
    "* With this set of hyperparameters\n",
    "    * Learning Rate = 0.0001\n",
    "    * Epochs = 20\n",
    "    * batch size Equal to 50 "
   ]
  },
  {
   "cell_type": "code",
   "execution_count": 65,
   "id": "48a558ef",
   "metadata": {},
   "outputs": [
    {
     "name": "stdout",
     "output_type": "stream",
     "text": [
      "INFO: starting training experiment with features=['trip_miles'] and label=fare\n",
      "\n",
      "Epoch 1/20\n",
      "\u001b[1m634/634\u001b[0m \u001b[32m━━━━━━━━━━━━━━━━━━━━\u001b[0m\u001b[37m\u001b[0m \u001b[1m0s\u001b[0m 253us/step - loss: 187.1078 - root_mean_squared_error: 13.6774\n",
      "Epoch 2/20\n",
      "\u001b[1m634/634\u001b[0m \u001b[32m━━━━━━━━━━━━━━━━━━━━\u001b[0m\u001b[37m\u001b[0m \u001b[1m0s\u001b[0m 241us/step - loss: 170.3092 - root_mean_squared_error: 13.0480\n",
      "Epoch 3/20\n",
      "\u001b[1m634/634\u001b[0m \u001b[32m━━━━━━━━━━━━━━━━━━━━\u001b[0m\u001b[37m\u001b[0m \u001b[1m0s\u001b[0m 240us/step - loss: 149.0627 - root_mean_squared_error: 12.2086\n",
      "Epoch 4/20\n",
      "\u001b[1m634/634\u001b[0m \u001b[32m━━━━━━━━━━━━━━━━━━━━\u001b[0m\u001b[37m\u001b[0m \u001b[1m0s\u001b[0m 235us/step - loss: 135.3034 - root_mean_squared_error: 11.6305\n",
      "Epoch 5/20\n",
      "\u001b[1m634/634\u001b[0m \u001b[32m━━━━━━━━━━━━━━━━━━━━\u001b[0m\u001b[37m\u001b[0m \u001b[1m0s\u001b[0m 236us/step - loss: 119.3922 - root_mean_squared_error: 10.9260\n",
      "Epoch 6/20\n",
      "\u001b[1m634/634\u001b[0m \u001b[32m━━━━━━━━━━━━━━━━━━━━\u001b[0m\u001b[37m\u001b[0m \u001b[1m0s\u001b[0m 236us/step - loss: 107.5349 - root_mean_squared_error: 10.3667\n",
      "Epoch 7/20\n",
      "\u001b[1m634/634\u001b[0m \u001b[32m━━━━━━━━━━━━━━━━━━━━\u001b[0m\u001b[37m\u001b[0m \u001b[1m0s\u001b[0m 255us/step - loss: 92.7073 - root_mean_squared_error: 9.6265\n",
      "Epoch 8/20\n",
      "\u001b[1m634/634\u001b[0m \u001b[32m━━━━━━━━━━━━━━━━━━━━\u001b[0m\u001b[37m\u001b[0m \u001b[1m0s\u001b[0m 239us/step - loss: 79.6255 - root_mean_squared_error: 8.9224\n",
      "Epoch 9/20\n",
      "\u001b[1m634/634\u001b[0m \u001b[32m━━━━━━━━━━━━━━━━━━━━\u001b[0m\u001b[37m\u001b[0m \u001b[1m0s\u001b[0m 238us/step - loss: 71.4959 - root_mean_squared_error: 8.4511\n",
      "Epoch 10/20\n",
      "\u001b[1m634/634\u001b[0m \u001b[32m━━━━━━━━━━━━━━━━━━━━\u001b[0m\u001b[37m\u001b[0m \u001b[1m0s\u001b[0m 238us/step - loss: 58.0427 - root_mean_squared_error: 7.6177\n",
      "Epoch 11/20\n",
      "\u001b[1m634/634\u001b[0m \u001b[32m━━━━━━━━━━━━━━━━━━━━\u001b[0m\u001b[37m\u001b[0m \u001b[1m0s\u001b[0m 237us/step - loss: 50.7759 - root_mean_squared_error: 7.1245\n",
      "Epoch 12/20\n",
      "\u001b[1m634/634\u001b[0m \u001b[32m━━━━━━━━━━━━━━━━━━━━\u001b[0m\u001b[37m\u001b[0m \u001b[1m0s\u001b[0m 238us/step - loss: 42.8767 - root_mean_squared_error: 6.5443\n",
      "Epoch 13/20\n",
      "\u001b[1m634/634\u001b[0m \u001b[32m━━━━━━━━━━━━━━━━━━━━\u001b[0m\u001b[37m\u001b[0m \u001b[1m0s\u001b[0m 246us/step - loss: 37.6044 - root_mean_squared_error: 6.1304\n",
      "Epoch 14/20\n",
      "\u001b[1m634/634\u001b[0m \u001b[32m━━━━━━━━━━━━━━━━━━━━\u001b[0m\u001b[37m\u001b[0m \u001b[1m0s\u001b[0m 238us/step - loss: 33.0026 - root_mean_squared_error: 5.7415\n",
      "Epoch 15/20\n",
      "\u001b[1m634/634\u001b[0m \u001b[32m━━━━━━━━━━━━━━━━━━━━\u001b[0m\u001b[37m\u001b[0m \u001b[1m0s\u001b[0m 235us/step - loss: 27.0076 - root_mean_squared_error: 5.1946\n",
      "Epoch 16/20\n",
      "\u001b[1m634/634\u001b[0m \u001b[32m━━━━━━━━━━━━━━━━━━━━\u001b[0m\u001b[37m\u001b[0m \u001b[1m0s\u001b[0m 233us/step - loss: 24.1824 - root_mean_squared_error: 4.9131\n",
      "Epoch 17/20\n",
      "\u001b[1m634/634\u001b[0m \u001b[32m━━━━━━━━━━━━━━━━━━━━\u001b[0m\u001b[37m\u001b[0m \u001b[1m0s\u001b[0m 236us/step - loss: 21.4159 - root_mean_squared_error: 4.6206\n",
      "Epoch 18/20\n",
      "\u001b[1m634/634\u001b[0m \u001b[32m━━━━━━━━━━━━━━━━━━━━\u001b[0m\u001b[37m\u001b[0m \u001b[1m0s\u001b[0m 234us/step - loss: 22.3626 - root_mean_squared_error: 4.7254\n",
      "Epoch 19/20\n",
      "\u001b[1m634/634\u001b[0m \u001b[32m━━━━━━━━━━━━━━━━━━━━\u001b[0m\u001b[37m\u001b[0m \u001b[1m0s\u001b[0m 240us/step - loss: 20.2892 - root_mean_squared_error: 4.5007\n",
      "Epoch 20/20\n",
      "\u001b[1m634/634\u001b[0m \u001b[32m━━━━━━━━━━━━━━━━━━━━\u001b[0m\u001b[37m\u001b[0m \u001b[1m0s\u001b[0m 239us/step - loss: 20.0223 - root_mean_squared_error: 4.4679\n",
      "\n",
      "SUCCESS: training experiment complete\n",
      "\n",
      "--------------------------------------------------------------------------------\n",
      "|                                  MODEL INFO                                  |\n",
      "--------------------------------------------------------------------------------\n",
      "Weight for feature[trip_miles]: 2.536\n",
      "Bias: 1.251\n",
      "\n",
      "fare = 2.536 * trip_miles + 1.251\n",
      "\n"
     ]
    },
    {
     "data": {
      "application/vnd.plotly.v1+json": {
       "config": {
        "plotlyServerURL": "https://plot.ly"
       },
       "data": [
        {
         "hovertemplate": "trip_miles=%{x}<br>fare=%{y}<extra></extra>",
         "legendgroup": "",
         "marker": {
          "color": "#636efa",
          "symbol": "circle"
         },
         "mode": "markers",
         "name": "",
         "orientation": "v",
         "showlegend": false,
         "type": "scatter",
         "x": {
          "bdata": "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",
          "dtype": "f8"
         },
         "xaxis": "x2",
         "y": {
          "bdata": "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",
          "dtype": "f8"
         },
         "yaxis": "y2"
        },
        {
         "hovertemplate": "trip_miles=%{x}<br>fare_predicted=%{y}<extra></extra>",
         "legendgroup": "",
         "line": {
          "color": "#ff0000",
          "dash": "solid",
          "width": 3
         },
         "marker": {
          "symbol": "circle"
         },
         "mode": "lines",
         "name": "",
         "orientation": "v",
         "showlegend": false,
         "type": "scatter",
         "x": {
          "bdata": "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",
          "dtype": "f8"
         },
         "xaxis": "x2",
         "y": {
          "bdata": "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",
          "dtype": "f8"
         },
         "yaxis": "y2"
        },
        {
         "hovertemplate": "x=%{x}<br>y=%{y}<extra></extra>",
         "legendgroup": "",
         "line": {
          "color": "#ff0000",
          "dash": "solid",
          "width": 3
         },
         "marker": {
          "symbol": "circle"
         },
         "mode": "lines",
         "name": "",
         "orientation": "v",
         "showlegend": false,
         "type": "scatter",
         "x": {
          "bdata": "AAECAwQFBgcICQoLDA0ODxAREhM=",
          "dtype": "i1"
         },
         "xaxis": "x",
         "y": {
          "bdata": "AAAAwH7sKkAAAABA+ospQAAAAADNLChAAAAAgH3SJkAAAAAgR3wlQAAAAECtKiRAAAAAAMLdIkAAAABAQ5chQAAAAGA+WyBAAAAAoLBQHkAAAABATQkcQAAAAMCR4BlAAAAAwIvlF0AAAACATyMWQAAAACA1oxRAAAAAwHN9E0AAAAAAv7gSQAAAAGBjTxJAAAAAYEEgEkAAAADgFAYSQA==",
          "dtype": "f8"
         },
         "yaxis": "y"
        }
       ],
       "layout": {
        "annotations": [
         {
          "font": {
           "size": 16
          },
          "showarrow": false,
          "text": "Loss Curve",
          "x": 0.225,
          "xanchor": "center",
          "xref": "paper",
          "y": 1,
          "yanchor": "bottom",
          "yref": "paper"
         },
         {
          "font": {
           "size": 16
          },
          "showarrow": false,
          "text": "Model Plot",
          "x": 0.775,
          "xanchor": "center",
          "xref": "paper",
          "y": 1,
          "yanchor": "bottom",
          "yref": "paper"
         }
        ],
        "template": {
         "data": {
          "bar": [
           {
            "error_x": {
             "color": "#2a3f5f"
            },
            "error_y": {
             "color": "#2a3f5f"
            },
            "marker": {
             "line": {
              "color": "#E5ECF6",
              "width": 0.5
             },
             "pattern": {
              "fillmode": "overlay",
              "size": 10,
              "solidity": 0.2
             }
            },
            "type": "bar"
           }
          ],
          "barpolar": [
           {
            "marker": {
             "line": {
              "color": "#E5ECF6",
              "width": 0.5
             },
             "pattern": {
              "fillmode": "overlay",
              "size": 10,
              "solidity": 0.2
             }
            },
            "type": "barpolar"
           }
          ],
          "carpet": [
           {
            "aaxis": {
             "endlinecolor": "#2a3f5f",
             "gridcolor": "white",
             "linecolor": "white",
             "minorgridcolor": "white",
             "startlinecolor": "#2a3f5f"
            },
            "baxis": {
             "endlinecolor": "#2a3f5f",
             "gridcolor": "white",
             "linecolor": "white",
             "minorgridcolor": "white",
             "startlinecolor": "#2a3f5f"
            },
            "type": "carpet"
           }
          ],
          "choropleth": [
           {
            "colorbar": {
             "outlinewidth": 0,
             "ticks": ""
            },
            "type": "choropleth"
           }
          ],
          "contour": [
           {
            "colorbar": {
             "outlinewidth": 0,
             "ticks": ""
            },
            "colorscale": [
             [
              0,
              "#0d0887"
             ],
             [
              0.1111111111111111,
              "#46039f"
             ],
             [
              0.2222222222222222,
              "#7201a8"
             ],
             [
              0.3333333333333333,
              "#9c179e"
             ],
             [
              0.4444444444444444,
              "#bd3786"
             ],
             [
              0.5555555555555556,
              "#d8576b"
             ],
             [
              0.6666666666666666,
              "#ed7953"
             ],
             [
              0.7777777777777778,
              "#fb9f3a"
             ],
             [
              0.8888888888888888,
              "#fdca26"
             ],
             [
              1,
              "#f0f921"
             ]
            ],
            "type": "contour"
           }
          ],
          "contourcarpet": [
           {
            "colorbar": {
             "outlinewidth": 0,
             "ticks": ""
            },
            "type": "contourcarpet"
           }
          ],
          "heatmap": [
           {
            "colorbar": {
             "outlinewidth": 0,
             "ticks": ""
            },
            "colorscale": [
             [
              0,
              "#0d0887"
             ],
             [
              0.1111111111111111,
              "#46039f"
             ],
             [
              0.2222222222222222,
              "#7201a8"
             ],
             [
              0.3333333333333333,
              "#9c179e"
             ],
             [
              0.4444444444444444,
              "#bd3786"
             ],
             [
              0.5555555555555556,
              "#d8576b"
             ],
             [
              0.6666666666666666,
              "#ed7953"
             ],
             [
              0.7777777777777778,
              "#fb9f3a"
             ],
             [
              0.8888888888888888,
              "#fdca26"
             ],
             [
              1,
              "#f0f921"
             ]
            ],
            "type": "heatmap"
           }
          ],
          "histogram": [
           {
            "marker": {
             "pattern": {
              "fillmode": "overlay",
              "size": 10,
              "solidity": 0.2
             }
            },
            "type": "histogram"
           }
          ],
          "histogram2d": [
           {
            "colorbar": {
             "outlinewidth": 0,
             "ticks": ""
            },
            "colorscale": [
             [
              0,
              "#0d0887"
             ],
             [
              0.1111111111111111,
              "#46039f"
             ],
             [
              0.2222222222222222,
              "#7201a8"
             ],
             [
              0.3333333333333333,
              "#9c179e"
             ],
             [
              0.4444444444444444,
              "#bd3786"
             ],
             [
              0.5555555555555556,
              "#d8576b"
             ],
             [
              0.6666666666666666,
              "#ed7953"
             ],
             [
              0.7777777777777778,
              "#fb9f3a"
             ],
             [
              0.8888888888888888,
              "#fdca26"
             ],
             [
              1,
              "#f0f921"
             ]
            ],
            "type": "histogram2d"
           }
          ],
          "histogram2dcontour": [
           {
            "colorbar": {
             "outlinewidth": 0,
             "ticks": ""
            },
            "colorscale": [
             [
              0,
              "#0d0887"
             ],
             [
              0.1111111111111111,
              "#46039f"
             ],
             [
              0.2222222222222222,
              "#7201a8"
             ],
             [
              0.3333333333333333,
              "#9c179e"
             ],
             [
              0.4444444444444444,
              "#bd3786"
             ],
             [
              0.5555555555555556,
              "#d8576b"
             ],
             [
              0.6666666666666666,
              "#ed7953"
             ],
             [
              0.7777777777777778,
              "#fb9f3a"
             ],
             [
              0.8888888888888888,
              "#fdca26"
             ],
             [
              1,
              "#f0f921"
             ]
            ],
            "type": "histogram2dcontour"
           }
          ],
          "mesh3d": [
           {
            "colorbar": {
             "outlinewidth": 0,
             "ticks": ""
            },
            "type": "mesh3d"
           }
          ],
          "parcoords": [
           {
            "line": {
             "colorbar": {
              "outlinewidth": 0,
              "ticks": ""
             }
            },
            "type": "parcoords"
           }
          ],
          "pie": [
           {
            "automargin": true,
            "type": "pie"
           }
          ],
          "scatter": [
           {
            "fillpattern": {
             "fillmode": "overlay",
             "size": 10,
             "solidity": 0.2
            },
            "type": "scatter"
           }
          ],
          "scatter3d": [
           {
            "line": {
             "colorbar": {
              "outlinewidth": 0,
              "ticks": ""
             }
            },
            "marker": {
             "colorbar": {
              "outlinewidth": 0,
              "ticks": ""
             }
            },
            "type": "scatter3d"
           }
          ],
          "scattercarpet": [
           {
            "marker": {
             "colorbar": {
              "outlinewidth": 0,
              "ticks": ""
             }
            },
            "type": "scattercarpet"
           }
          ],
          "scattergeo": [
           {
            "marker": {
             "colorbar": {
              "outlinewidth": 0,
              "ticks": ""
             }
            },
            "type": "scattergeo"
           }
          ],
          "scattergl": [
           {
            "marker": {
             "colorbar": {
              "outlinewidth": 0,
              "ticks": ""
             }
            },
            "type": "scattergl"
           }
          ],
          "scattermap": [
           {
            "marker": {
             "colorbar": {
              "outlinewidth": 0,
              "ticks": ""
             }
            },
            "type": "scattermap"
           }
          ],
          "scattermapbox": [
           {
            "marker": {
             "colorbar": {
              "outlinewidth": 0,
              "ticks": ""
             }
            },
            "type": "scattermapbox"
           }
          ],
          "scatterpolar": [
           {
            "marker": {
             "colorbar": {
              "outlinewidth": 0,
              "ticks": ""
             }
            },
            "type": "scatterpolar"
           }
          ],
          "scatterpolargl": [
           {
            "marker": {
             "colorbar": {
              "outlinewidth": 0,
              "ticks": ""
             }
            },
            "type": "scatterpolargl"
           }
          ],
          "scatterternary": [
           {
            "marker": {
             "colorbar": {
              "outlinewidth": 0,
              "ticks": ""
             }
            },
            "type": "scatterternary"
           }
          ],
          "surface": [
           {
            "colorbar": {
             "outlinewidth": 0,
             "ticks": ""
            },
            "colorscale": [
             [
              0,
              "#0d0887"
             ],
             [
              0.1111111111111111,
              "#46039f"
             ],
             [
              0.2222222222222222,
              "#7201a8"
             ],
             [
              0.3333333333333333,
              "#9c179e"
             ],
             [
              0.4444444444444444,
              "#bd3786"
             ],
             [
              0.5555555555555556,
              "#d8576b"
             ],
             [
              0.6666666666666666,
              "#ed7953"
             ],
             [
              0.7777777777777778,
              "#fb9f3a"
             ],
             [
              0.8888888888888888,
              "#fdca26"
             ],
             [
              1,
              "#f0f921"
             ]
            ],
            "type": "surface"
           }
          ],
          "table": [
           {
            "cells": {
             "fill": {
              "color": "#EBF0F8"
             },
             "line": {
              "color": "white"
             }
            },
            "header": {
             "fill": {
              "color": "#C8D4E3"
             },
             "line": {
              "color": "white"
             }
            },
            "type": "table"
           }
          ]
         },
         "layout": {
          "annotationdefaults": {
           "arrowcolor": "#2a3f5f",
           "arrowhead": 0,
           "arrowwidth": 1
          },
          "autotypenumbers": "strict",
          "coloraxis": {
           "colorbar": {
            "outlinewidth": 0,
            "ticks": ""
           }
          },
          "colorscale": {
           "diverging": [
            [
             0,
             "#8e0152"
            ],
            [
             0.1,
             "#c51b7d"
            ],
            [
             0.2,
             "#de77ae"
            ],
            [
             0.3,
             "#f1b6da"
            ],
            [
             0.4,
             "#fde0ef"
            ],
            [
             0.5,
             "#f7f7f7"
            ],
            [
             0.6,
             "#e6f5d0"
            ],
            [
             0.7,
             "#b8e186"
            ],
            [
             0.8,
             "#7fbc41"
            ],
            [
             0.9,
             "#4d9221"
            ],
            [
             1,
             "#276419"
            ]
           ],
           "sequential": [
            [
             0,
             "#0d0887"
            ],
            [
             0.1111111111111111,
             "#46039f"
            ],
            [
             0.2222222222222222,
             "#7201a8"
            ],
            [
             0.3333333333333333,
             "#9c179e"
            ],
            [
             0.4444444444444444,
             "#bd3786"
            ],
            [
             0.5555555555555556,
             "#d8576b"
            ],
            [
             0.6666666666666666,
             "#ed7953"
            ],
            [
             0.7777777777777778,
             "#fb9f3a"
            ],
            [
             0.8888888888888888,
             "#fdca26"
            ],
            [
             1,
             "#f0f921"
            ]
           ],
           "sequentialminus": [
            [
             0,
             "#0d0887"
            ],
            [
             0.1111111111111111,
             "#46039f"
            ],
            [
             0.2222222222222222,
             "#7201a8"
            ],
            [
             0.3333333333333333,
             "#9c179e"
            ],
            [
             0.4444444444444444,
             "#bd3786"
            ],
            [
             0.5555555555555556,
             "#d8576b"
            ],
            [
             0.6666666666666666,
             "#ed7953"
            ],
            [
             0.7777777777777778,
             "#fb9f3a"
            ],
            [
             0.8888888888888888,
             "#fdca26"
            ],
            [
             1,
             "#f0f921"
            ]
           ]
          },
          "colorway": [
           "#636efa",
           "#EF553B",
           "#00cc96",
           "#ab63fa",
           "#FFA15A",
           "#19d3f3",
           "#FF6692",
           "#B6E880",
           "#FF97FF",
           "#FECB52"
          ],
          "font": {
           "color": "#2a3f5f"
          },
          "geo": {
           "bgcolor": "white",
           "lakecolor": "white",
           "landcolor": "#E5ECF6",
           "showlakes": true,
           "showland": true,
           "subunitcolor": "white"
          },
          "hoverlabel": {
           "align": "left"
          },
          "hovermode": "closest",
          "mapbox": {
           "style": "light"
          },
          "paper_bgcolor": "white",
          "plot_bgcolor": "#E5ECF6",
          "polar": {
           "angularaxis": {
            "gridcolor": "white",
            "linecolor": "white",
            "ticks": ""
           },
           "bgcolor": "#E5ECF6",
           "radialaxis": {
            "gridcolor": "white",
            "linecolor": "white",
            "ticks": ""
           }
          },
          "scene": {
           "xaxis": {
            "backgroundcolor": "#E5ECF6",
            "gridcolor": "white",
            "gridwidth": 2,
            "linecolor": "white",
            "showbackground": true,
            "ticks": "",
            "zerolinecolor": "white"
           },
           "yaxis": {
            "backgroundcolor": "#E5ECF6",
            "gridcolor": "white",
            "gridwidth": 2,
            "linecolor": "white",
            "showbackground": true,
            "ticks": "",
            "zerolinecolor": "white"
           },
           "zaxis": {
            "backgroundcolor": "#E5ECF6",
            "gridcolor": "white",
            "gridwidth": 2,
            "linecolor": "white",
            "showbackground": true,
            "ticks": "",
            "zerolinecolor": "white"
           }
          },
          "shapedefaults": {
           "line": {
            "color": "#2a3f5f"
           }
          },
          "ternary": {
           "aaxis": {
            "gridcolor": "white",
            "linecolor": "white",
            "ticks": ""
           },
           "baxis": {
            "gridcolor": "white",
            "linecolor": "white",
            "ticks": ""
           },
           "bgcolor": "#E5ECF6",
           "caxis": {
            "gridcolor": "white",
            "linecolor": "white",
            "ticks": ""
           }
          },
          "title": {
           "x": 0.05
          },
          "xaxis": {
           "automargin": true,
           "gridcolor": "white",
           "linecolor": "white",
           "ticks": "",
           "title": {
            "standoff": 15
           },
           "zerolinecolor": "white",
           "zerolinewidth": 2
          },
          "yaxis": {
           "automargin": true,
           "gridcolor": "white",
           "linecolor": "white",
           "ticks": "",
           "title": {
            "standoff": 15
           },
           "zerolinecolor": "white",
           "zerolinewidth": 2
          }
         }
        },
        "xaxis": {
         "anchor": "y",
         "domain": [
          0,
          0.45
         ],
         "title": {
          "text": "Epoch"
         }
        },
        "xaxis2": {
         "anchor": "y2",
         "domain": [
          0.55,
          1
         ],
         "title": {
          "text": "trip_miles"
         }
        },
        "yaxis": {
         "anchor": "x",
         "domain": [
          0,
          1
         ],
         "range": [
          3.604751205444336,
          13.461904525756836
         ],
         "title": {
          "text": "Root Mean Squared Error"
         }
        },
        "yaxis2": {
         "anchor": "x2",
         "domain": [
          0,
          1
         ],
         "title": {
          "text": "fare"
         }
        }
       }
      }
     },
     "metadata": {},
     "output_type": "display_data"
    }
   ],
   "source": [
    "# The following variables are the hyperparameters.\n",
    "learning_rate = 0.0001\n",
    "epochs = 20\n",
    "batch_size = 50\n",
    "\n",
    "# Specify the feature and the label.\n",
    "features = [\"trip_miles\"]\n",
    "label = \"fare\"\n",
    "\n",
    "model_1 = run_experiment(fare_df, features, label, learning_rate, epochs, batch_size)"
   ]
  },
  {
   "cell_type": "markdown",
   "id": "d7cc3a32",
   "metadata": {},
   "source": [
    "## Results of the Third Experiment with Only `trip_miles` - Decreasing the Learning rate to 0.0001\n",
    "\n",
    "* With this set of hyperparameters\n",
    "    * Learning Rate = 0.0001\n",
    "    * Epochs = 20\n",
    "    * batch size Equal to 50 \n",
    "\n",
    "In neural networks, the learning rate is a multiplier that controls the degree to which each backward pass increases or decreases each weight. A small learning rate will increase or decrease each weight less than a large learning rate.\n",
    "\n",
    "The issue with a samll learning rate is that it can slow down model training because it can cause small adjusts in weight values which in turn increase the amount of time for the model to converge. \n",
    "\n",
    "In this example, I see that the loss curve decreases slowly, but does not show a dramatic drop or leveling off. In fact, the last lost rate is greater than when I used a learning rate of 0.001. \n",
    "\n",
    "Additionally,the eventual predicted model does not fit the data very well. I am not getting good results. I will not use this model.\n",
    "\n",
    "### Note\n",
    "With a small learning rate, I could increase the number of epochs so that model eventually converges, but it will take more time. "
   ]
  },
  {
   "cell_type": "markdown",
   "id": "68585e66",
   "metadata": {},
   "source": [
    "# Fourth Experiment - Adjusting the Hyperparameters - Increasing the Batch Size to 500 and Using the Original Learning Rate - 0.001\n",
    "\n",
    "* With this set of hyperparameters\n",
    "    * Learning Rate = 0.001\n",
    "    * Epochs = 20\n",
    "    * batch size Equal to 500"
   ]
  },
  {
   "cell_type": "code",
   "execution_count": 66,
   "id": "98a8caf1",
   "metadata": {},
   "outputs": [
    {
     "name": "stdout",
     "output_type": "stream",
     "text": [
      "INFO: starting training experiment with features=['trip_miles'] and label=fare\n",
      "\n",
      "Epoch 1/20\n",
      "\u001b[1m64/64\u001b[0m \u001b[32m━━━━━━━━━━━━━━━━━━━━\u001b[0m\u001b[37m\u001b[0m \u001b[1m0s\u001b[0m 422us/step - loss: 250.5904 - root_mean_squared_error: 15.8296\n",
      "Epoch 2/20\n",
      "\u001b[1m64/64\u001b[0m \u001b[32m━━━━━━━━━━━━━━━━━━━━\u001b[0m\u001b[37m\u001b[0m \u001b[1m0s\u001b[0m 370us/step - loss: 229.7834 - root_mean_squared_error: 15.1575\n",
      "Epoch 3/20\n",
      "\u001b[1m64/64\u001b[0m \u001b[32m━━━━━━━━━━━━━━━━━━━━\u001b[0m\u001b[37m\u001b[0m \u001b[1m0s\u001b[0m 338us/step - loss: 208.2584 - root_mean_squared_error: 14.4306\n",
      "Epoch 4/20\n",
      "\u001b[1m64/64\u001b[0m \u001b[32m━━━━━━━━━━━━━━━━━━━━\u001b[0m\u001b[37m\u001b[0m \u001b[1m0s\u001b[0m 341us/step - loss: 185.0431 - root_mean_squared_error: 13.6027\n",
      "Epoch 5/20\n",
      "\u001b[1m64/64\u001b[0m \u001b[32m━━━━━━━━━━━━━━━━━━━━\u001b[0m\u001b[37m\u001b[0m \u001b[1m0s\u001b[0m 332us/step - loss: 167.1097 - root_mean_squared_error: 12.9268\n",
      "Epoch 6/20\n",
      "\u001b[1m64/64\u001b[0m \u001b[32m━━━━━━━━━━━━━━━━━━━━\u001b[0m\u001b[37m\u001b[0m \u001b[1m0s\u001b[0m 342us/step - loss: 150.3741 - root_mean_squared_error: 12.2624\n",
      "Epoch 7/20\n",
      "\u001b[1m64/64\u001b[0m \u001b[32m━━━━━━━━━━━━━━━━━━━━\u001b[0m\u001b[37m\u001b[0m \u001b[1m0s\u001b[0m 355us/step - loss: 136.9320 - root_mean_squared_error: 11.6987\n",
      "Epoch 8/20\n",
      "\u001b[1m64/64\u001b[0m \u001b[32m━━━━━━━━━━━━━━━━━━━━\u001b[0m\u001b[37m\u001b[0m \u001b[1m0s\u001b[0m 344us/step - loss: 118.6506 - root_mean_squared_error: 10.8925\n",
      "Epoch 9/20\n",
      "\u001b[1m64/64\u001b[0m \u001b[32m━━━━━━━━━━━━━━━━━━━━\u001b[0m\u001b[37m\u001b[0m \u001b[1m0s\u001b[0m 333us/step - loss: 105.1173 - root_mean_squared_error: 10.2520\n",
      "Epoch 10/20\n",
      "\u001b[1m64/64\u001b[0m \u001b[32m━━━━━━━━━━━━━━━━━━━━\u001b[0m\u001b[37m\u001b[0m \u001b[1m0s\u001b[0m 336us/step - loss: 92.1711 - root_mean_squared_error: 9.6001\n",
      "Epoch 11/20\n",
      "\u001b[1m64/64\u001b[0m \u001b[32m━━━━━━━━━━━━━━━━━━━━\u001b[0m\u001b[37m\u001b[0m \u001b[1m0s\u001b[0m 334us/step - loss: 78.4789 - root_mean_squared_error: 8.8586\n",
      "Epoch 12/20\n",
      "\u001b[1m64/64\u001b[0m \u001b[32m━━━━━━━━━━━━━━━━━━━━\u001b[0m\u001b[37m\u001b[0m \u001b[1m0s\u001b[0m 335us/step - loss: 67.2071 - root_mean_squared_error: 8.1975\n",
      "Epoch 13/20\n",
      "\u001b[1m64/64\u001b[0m \u001b[32m━━━━━━━━━━━━━━━━━━━━\u001b[0m\u001b[37m\u001b[0m \u001b[1m0s\u001b[0m 338us/step - loss: 59.0373 - root_mean_squared_error: 7.6831\n",
      "Epoch 14/20\n",
      "\u001b[1m64/64\u001b[0m \u001b[32m━━━━━━━━━━━━━━━━━━━━\u001b[0m\u001b[37m\u001b[0m \u001b[1m0s\u001b[0m 331us/step - loss: 51.7312 - root_mean_squared_error: 7.1893\n",
      "Epoch 15/20\n",
      "\u001b[1m64/64\u001b[0m \u001b[32m━━━━━━━━━━━━━━━━━━━━\u001b[0m\u001b[37m\u001b[0m \u001b[1m0s\u001b[0m 326us/step - loss: 44.0602 - root_mean_squared_error: 6.6349\n",
      "Epoch 16/20\n",
      "\u001b[1m64/64\u001b[0m \u001b[32m━━━━━━━━━━━━━━━━━━━━\u001b[0m\u001b[37m\u001b[0m \u001b[1m0s\u001b[0m 332us/step - loss: 37.3721 - root_mean_squared_error: 6.1121\n",
      "Epoch 17/20\n",
      "\u001b[1m64/64\u001b[0m \u001b[32m━━━━━━━━━━━━━━━━━━━━\u001b[0m\u001b[37m\u001b[0m \u001b[1m0s\u001b[0m 475us/step - loss: 30.3547 - root_mean_squared_error: 5.5084\n",
      "Epoch 18/20\n",
      "\u001b[1m64/64\u001b[0m \u001b[32m━━━━━━━━━━━━━━━━━━━━\u001b[0m\u001b[37m\u001b[0m \u001b[1m0s\u001b[0m 353us/step - loss: 25.8403 - root_mean_squared_error: 5.0813\n",
      "Epoch 19/20\n",
      "\u001b[1m64/64\u001b[0m \u001b[32m━━━━━━━━━━━━━━━━━━━━\u001b[0m\u001b[37m\u001b[0m \u001b[1m0s\u001b[0m 341us/step - loss: 23.8786 - root_mean_squared_error: 4.8845\n",
      "Epoch 20/20\n",
      "\u001b[1m64/64\u001b[0m \u001b[32m━━━━━━━━━━━━━━━━━━━━\u001b[0m\u001b[37m\u001b[0m \u001b[1m0s\u001b[0m 335us/step - loss: 20.2557 - root_mean_squared_error: 4.4979\n",
      "\n",
      "SUCCESS: training experiment complete\n",
      "\n",
      "--------------------------------------------------------------------------------\n",
      "|                                  MODEL INFO                                  |\n",
      "--------------------------------------------------------------------------------\n",
      "Weight for feature[trip_miles]: 2.483\n",
      "Bias: 1.272\n",
      "\n",
      "fare = 2.483 * trip_miles + 1.272\n",
      "\n"
     ]
    },
    {
     "data": {
      "application/vnd.plotly.v1+json": {
       "config": {
        "plotlyServerURL": "https://plot.ly"
       },
       "data": [
        {
         "hovertemplate": "trip_miles=%{x}<br>fare=%{y}<extra></extra>",
         "legendgroup": "",
         "marker": {
          "color": "#636efa",
          "symbol": "circle"
         },
         "mode": "markers",
         "name": "",
         "orientation": "v",
         "showlegend": false,
         "type": "scatter",
         "x": {
          "bdata": "CtejcD0K9z8zMzMzMzP7P2ZmZmZmZiVA16NwPQpXKEBmZmZmZmYSQKRwPQrXozBAKVyPwvUoAkDNzMzMzMwxQHsUrkfheiZArkfhehSuB0CPwvUoXI/yPwAAAAAAAABAZmZmZmZmIEAK16NwPQr3PzMzMzMzM/c/16NwPQrX8z8AAAAAAADgPwAAAAAAABJACtejcD0K9z+F61G4HoXrP0jhehSuR/E/MzMzMzMzEUDXo3A9CtcDQFK4HoXrUSRA16NwPQoXOkCuR+F6FK4XQGZmZmZm5jFAMzMzMzMzKEC4HoXrUXg2QKRwPQrXowRAKVyPwvUoJUBxPQrXo/AxQM3MzMzMTDNA4XoUrkdhLEDsUbgehWsxQAAAAAAAgCBAAAAAAACAJEBmZmZmZmYmQLgehetRuCZA9ihcj8L1GkAzMzMzMzMdQOF6FK5H4StAH4XrUbieMkDsUbgehevpPx+F61G4HgVA16NwPQpXLEAAAAAAAAAIQM3MzMzMTDFAhetRuB6F+z8zMzMzMzMiQAAAAAAAAPA/ZmZmZmZm9j8AAAAAAAAgQK5H4XoU7jFAZmZmZmZmKkAUrkfhelQxQFyPwvUo3CxAUrgehetRJEA9CtejcD0MQAAAAAAAgDBAZmZmZmZm5j+PwvUoXM8+QDMzMzMzMyRA16NwPQpXIkA9CtejcD0CQFyPwvUoXBFAzczMzMzMMUAzMzMzMzP7P1K4HoXrURJAMzMzMzOzMUDsUbgehevxPylcj8L16DFA4XoUrkfh/j8fhetRuB79PxSuR+F6FPY/9ihcj8L19D8AAAAAAAA0QHE9CtejMDFAcT0K16Nw9T9SuB6F61H4PzMzMzMzMzBAPQrXo3A98j/NzMzMzMwmQKRwPQrXozFAKVyPwvUoE0DhehSuR+EnQAAAAAAAAPg/zczMzMzMBECamZmZmZn5P+F6FK5H4fI/16NwPQrXMkBmZmZmZmb+P+xRuB6F6wtAzczMzMzMCEDsUbgehWstQGZmZmZmZuY/rkfhehQuMkAAAAAAAIAxQDMzMzMzMyFAMzMzMzMzMUDNzMzMzEwwQJqZmZmZmQlAH4XrUbgeDUDhehSuR+EbQOF6FK5H4fY/H4XrUbge/T9mZmZmZmYCQClcj8L1KOQ/uB6F61E4JUDD9Shcj8IuQAAAAAAAAAhAUrgehetRAkAAAAAAAADwPx+F61G43jBAj8L1KFwPIUDXo3A9CtchQDMzMzMzszBAXI/C9ShcKUAzMzMzMzPjPxSuR+F6FCpAAAAAAACALEApXI/C9agqQHE9CtejcCRAPQrXo3A9BkDNzMzMzMz4PwAAAAAAgDFAZmZmZmZmDkAAAAAAAIAyQClcj8L1KAJAMzMzMzMzMUAzMzMzMzMxQJqZmZmZmSdAcT0K16NwK0AUrkfhetQyQDMzMzMzszNAzczMzMzMCEDhehSuR+EdQGZmZmZmZiFAw/UoXI/C/T8AAAAAAAAAQKRwPQrXYzFAmpmZmZmZJkC4HoXrUTgvQKRwPQrXoyhAAAAAAAAAMkCamZmZmZksQJqZmZmZGTBAhetRuB6F9z8K16NwPQr7PwAAAAAAACpArkfhehQuJkCkcD0K16MbQDMzMzMzMwtA7FG4HoXrCUDhehSuR+EfQJqZmZmZmTFAMzMzMzOzMEDXo3A9CtcyQM3MzMzMTCpA9ihcj8L1F0AUrkfhehQ0QD0K16NwPSFAzczMzMzMK0AzMzMzM7MyQJqZmZmZmQNA16NwPQrX6z+kcD0K16PoPx+F61G4Hu0/UrgehesRMkAAAAAAAADgP83MzMzMzABAUrgehevRMUA9CtejcD36P7gehetRuPo/CtejcD3KMkAzMzMzMzMtQClcj8L1qCFAPQrXo3A96j9SuB6F65ExQAAAAAAAAC5AZmZmZmZmAkCamZmZmZksQDMzMzMzMyNAUrgehetRDEAAAAAAAAD8P65H4XoUrhlAMzMzMzMzD0D2KFyPwvUAQGZmZmZmZv4/ZmZmZmZm/j8zMzMzMzMFQI/C9Shcj+I/KVyPwvWoKUAAAAAAAIAwQBSuR+F6lC1AcT0K16Nw9T8zMzMzMzMkQFK4HoXrUSZAMzMzMzMz+z9mZmZmZmYxQA==",
          "dtype": "f8"
         },
         "xaxis": "x2",
         "y": {
          "bdata": "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",
          "dtype": "f8"
         },
         "yaxis": "y2"
        },
        {
         "hovertemplate": "trip_miles=%{x}<br>fare_predicted=%{y}<extra></extra>",
         "legendgroup": "",
         "line": {
          "color": "#ff0000",
          "dash": "solid",
          "width": 3
         },
         "marker": {
          "symbol": "circle"
         },
         "mode": "lines",
         "name": "",
         "orientation": "v",
         "showlegend": false,
         "type": "scatter",
         "x": {
          "bdata": "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",
          "dtype": "f8"
         },
         "xaxis": "x2",
         "y": {
          "bdata": "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",
          "dtype": "f8"
         },
         "yaxis": "y2"
        },
        {
         "hovertemplate": "x=%{x}<br>y=%{y}<extra></extra>",
         "legendgroup": "",
         "line": {
          "color": "#ff0000",
          "dash": "solid",
          "width": 3
         },
         "marker": {
          "symbol": "circle"
         },
         "mode": "lines",
         "name": "",
         "orientation": "v",
         "showlegend": false,
         "type": "scatter",
         "x": {
          "bdata": "AAECAwQFBgcICQoLDA0ODxAREhM=",
          "dtype": "i1"
         },
         "xaxis": "x",
         "y": {
          "bdata": "AAAAoAJlL0AAAADgh/EtQAAAAACNhCxAAAAAoAgaK0AAAAAAN7IpQAAAAECBTShAAAAA4H/rJkAAAADg4Y0lQAAAAGCcNSRAAAAAQDzjIkAAAAAg5ZYhQAAAAEADVSBAAAAAADI8HkAAAABAI+kbQAAAACDstBlAAAAAgN2xF0AAAABAnuAVQAAAAKBQWxRAAAAAAKkrE0AAAADgWVwSQA==",
          "dtype": "f8"
         },
         "yaxis": "y"
        }
       ],
       "layout": {
        "annotations": [
         {
          "font": {
           "size": 16
          },
          "showarrow": false,
          "text": "Loss Curve",
          "x": 0.225,
          "xanchor": "center",
          "xref": "paper",
          "y": 1,
          "yanchor": "bottom",
          "yref": "paper"
         },
         {
          "font": {
           "size": 16
          },
          "showarrow": false,
          "text": "Model Plot",
          "x": 0.775,
          "xanchor": "center",
          "xref": "paper",
          "y": 1,
          "yanchor": "bottom",
          "yref": "paper"
         }
        ],
        "template": {
         "data": {
          "bar": [
           {
            "error_x": {
             "color": "#2a3f5f"
            },
            "error_y": {
             "color": "#2a3f5f"
            },
            "marker": {
             "line": {
              "color": "#E5ECF6",
              "width": 0.5
             },
             "pattern": {
              "fillmode": "overlay",
              "size": 10,
              "solidity": 0.2
             }
            },
            "type": "bar"
           }
          ],
          "barpolar": [
           {
            "marker": {
             "line": {
              "color": "#E5ECF6",
              "width": 0.5
             },
             "pattern": {
              "fillmode": "overlay",
              "size": 10,
              "solidity": 0.2
             }
            },
            "type": "barpolar"
           }
          ],
          "carpet": [
           {
            "aaxis": {
             "endlinecolor": "#2a3f5f",
             "gridcolor": "white",
             "linecolor": "white",
             "minorgridcolor": "white",
             "startlinecolor": "#2a3f5f"
            },
            "baxis": {
             "endlinecolor": "#2a3f5f",
             "gridcolor": "white",
             "linecolor": "white",
             "minorgridcolor": "white",
             "startlinecolor": "#2a3f5f"
            },
            "type": "carpet"
           }
          ],
          "choropleth": [
           {
            "colorbar": {
             "outlinewidth": 0,
             "ticks": ""
            },
            "type": "choropleth"
           }
          ],
          "contour": [
           {
            "colorbar": {
             "outlinewidth": 0,
             "ticks": ""
            },
            "colorscale": [
             [
              0,
              "#0d0887"
             ],
             [
              0.1111111111111111,
              "#46039f"
             ],
             [
              0.2222222222222222,
              "#7201a8"
             ],
             [
              0.3333333333333333,
              "#9c179e"
             ],
             [
              0.4444444444444444,
              "#bd3786"
             ],
             [
              0.5555555555555556,
              "#d8576b"
             ],
             [
              0.6666666666666666,
              "#ed7953"
             ],
             [
              0.7777777777777778,
              "#fb9f3a"
             ],
             [
              0.8888888888888888,
              "#fdca26"
             ],
             [
              1,
              "#f0f921"
             ]
            ],
            "type": "contour"
           }
          ],
          "contourcarpet": [
           {
            "colorbar": {
             "outlinewidth": 0,
             "ticks": ""
            },
            "type": "contourcarpet"
           }
          ],
          "heatmap": [
           {
            "colorbar": {
             "outlinewidth": 0,
             "ticks": ""
            },
            "colorscale": [
             [
              0,
              "#0d0887"
             ],
             [
              0.1111111111111111,
              "#46039f"
             ],
             [
              0.2222222222222222,
              "#7201a8"
             ],
             [
              0.3333333333333333,
              "#9c179e"
             ],
             [
              0.4444444444444444,
              "#bd3786"
             ],
             [
              0.5555555555555556,
              "#d8576b"
             ],
             [
              0.6666666666666666,
              "#ed7953"
             ],
             [
              0.7777777777777778,
              "#fb9f3a"
             ],
             [
              0.8888888888888888,
              "#fdca26"
             ],
             [
              1,
              "#f0f921"
             ]
            ],
            "type": "heatmap"
           }
          ],
          "histogram": [
           {
            "marker": {
             "pattern": {
              "fillmode": "overlay",
              "size": 10,
              "solidity": 0.2
             }
            },
            "type": "histogram"
           }
          ],
          "histogram2d": [
           {
            "colorbar": {
             "outlinewidth": 0,
             "ticks": ""
            },
            "colorscale": [
             [
              0,
              "#0d0887"
             ],
             [
              0.1111111111111111,
              "#46039f"
             ],
             [
              0.2222222222222222,
              "#7201a8"
             ],
             [
              0.3333333333333333,
              "#9c179e"
             ],
             [
              0.4444444444444444,
              "#bd3786"
             ],
             [
              0.5555555555555556,
              "#d8576b"
             ],
             [
              0.6666666666666666,
              "#ed7953"
             ],
             [
              0.7777777777777778,
              "#fb9f3a"
             ],
             [
              0.8888888888888888,
              "#fdca26"
             ],
             [
              1,
              "#f0f921"
             ]
            ],
            "type": "histogram2d"
           }
          ],
          "histogram2dcontour": [
           {
            "colorbar": {
             "outlinewidth": 0,
             "ticks": ""
            },
            "colorscale": [
             [
              0,
              "#0d0887"
             ],
             [
              0.1111111111111111,
              "#46039f"
             ],
             [
              0.2222222222222222,
              "#7201a8"
             ],
             [
              0.3333333333333333,
              "#9c179e"
             ],
             [
              0.4444444444444444,
              "#bd3786"
             ],
             [
              0.5555555555555556,
              "#d8576b"
             ],
             [
              0.6666666666666666,
              "#ed7953"
             ],
             [
              0.7777777777777778,
              "#fb9f3a"
             ],
             [
              0.8888888888888888,
              "#fdca26"
             ],
             [
              1,
              "#f0f921"
             ]
            ],
            "type": "histogram2dcontour"
           }
          ],
          "mesh3d": [
           {
            "colorbar": {
             "outlinewidth": 0,
             "ticks": ""
            },
            "type": "mesh3d"
           }
          ],
          "parcoords": [
           {
            "line": {
             "colorbar": {
              "outlinewidth": 0,
              "ticks": ""
             }
            },
            "type": "parcoords"
           }
          ],
          "pie": [
           {
            "automargin": true,
            "type": "pie"
           }
          ],
          "scatter": [
           {
            "fillpattern": {
             "fillmode": "overlay",
             "size": 10,
             "solidity": 0.2
            },
            "type": "scatter"
           }
          ],
          "scatter3d": [
           {
            "line": {
             "colorbar": {
              "outlinewidth": 0,
              "ticks": ""
             }
            },
            "marker": {
             "colorbar": {
              "outlinewidth": 0,
              "ticks": ""
             }
            },
            "type": "scatter3d"
           }
          ],
          "scattercarpet": [
           {
            "marker": {
             "colorbar": {
              "outlinewidth": 0,
              "ticks": ""
             }
            },
            "type": "scattercarpet"
           }
          ],
          "scattergeo": [
           {
            "marker": {
             "colorbar": {
              "outlinewidth": 0,
              "ticks": ""
             }
            },
            "type": "scattergeo"
           }
          ],
          "scattergl": [
           {
            "marker": {
             "colorbar": {
              "outlinewidth": 0,
              "ticks": ""
             }
            },
            "type": "scattergl"
           }
          ],
          "scattermap": [
           {
            "marker": {
             "colorbar": {
              "outlinewidth": 0,
              "ticks": ""
             }
            },
            "type": "scattermap"
           }
          ],
          "scattermapbox": [
           {
            "marker": {
             "colorbar": {
              "outlinewidth": 0,
              "ticks": ""
             }
            },
            "type": "scattermapbox"
           }
          ],
          "scatterpolar": [
           {
            "marker": {
             "colorbar": {
              "outlinewidth": 0,
              "ticks": ""
             }
            },
            "type": "scatterpolar"
           }
          ],
          "scatterpolargl": [
           {
            "marker": {
             "colorbar": {
              "outlinewidth": 0,
              "ticks": ""
             }
            },
            "type": "scatterpolargl"
           }
          ],
          "scatterternary": [
           {
            "marker": {
             "colorbar": {
              "outlinewidth": 0,
              "ticks": ""
             }
            },
            "type": "scatterternary"
           }
          ],
          "surface": [
           {
            "colorbar": {
             "outlinewidth": 0,
             "ticks": ""
            },
            "colorscale": [
             [
              0,
              "#0d0887"
             ],
             [
              0.1111111111111111,
              "#46039f"
             ],
             [
              0.2222222222222222,
              "#7201a8"
             ],
             [
              0.3333333333333333,
              "#9c179e"
             ],
             [
              0.4444444444444444,
              "#bd3786"
             ],
             [
              0.5555555555555556,
              "#d8576b"
             ],
             [
              0.6666666666666666,
              "#ed7953"
             ],
             [
              0.7777777777777778,
              "#fb9f3a"
             ],
             [
              0.8888888888888888,
              "#fdca26"
             ],
             [
              1,
              "#f0f921"
             ]
            ],
            "type": "surface"
           }
          ],
          "table": [
           {
            "cells": {
             "fill": {
              "color": "#EBF0F8"
             },
             "line": {
              "color": "white"
             }
            },
            "header": {
             "fill": {
              "color": "#C8D4E3"
             },
             "line": {
              "color": "white"
             }
            },
            "type": "table"
           }
          ]
         },
         "layout": {
          "annotationdefaults": {
           "arrowcolor": "#2a3f5f",
           "arrowhead": 0,
           "arrowwidth": 1
          },
          "autotypenumbers": "strict",
          "coloraxis": {
           "colorbar": {
            "outlinewidth": 0,
            "ticks": ""
           }
          },
          "colorscale": {
           "diverging": [
            [
             0,
             "#8e0152"
            ],
            [
             0.1,
             "#c51b7d"
            ],
            [
             0.2,
             "#de77ae"
            ],
            [
             0.3,
             "#f1b6da"
            ],
            [
             0.4,
             "#fde0ef"
            ],
            [
             0.5,
             "#f7f7f7"
            ],
            [
             0.6,
             "#e6f5d0"
            ],
            [
             0.7,
             "#b8e186"
            ],
            [
             0.8,
             "#7fbc41"
            ],
            [
             0.9,
             "#4d9221"
            ],
            [
             1,
             "#276419"
            ]
           ],
           "sequential": [
            [
             0,
             "#0d0887"
            ],
            [
             0.1111111111111111,
             "#46039f"
            ],
            [
             0.2222222222222222,
             "#7201a8"
            ],
            [
             0.3333333333333333,
             "#9c179e"
            ],
            [
             0.4444444444444444,
             "#bd3786"
            ],
            [
             0.5555555555555556,
             "#d8576b"
            ],
            [
             0.6666666666666666,
             "#ed7953"
            ],
            [
             0.7777777777777778,
             "#fb9f3a"
            ],
            [
             0.8888888888888888,
             "#fdca26"
            ],
            [
             1,
             "#f0f921"
            ]
           ],
           "sequentialminus": [
            [
             0,
             "#0d0887"
            ],
            [
             0.1111111111111111,
             "#46039f"
            ],
            [
             0.2222222222222222,
             "#7201a8"
            ],
            [
             0.3333333333333333,
             "#9c179e"
            ],
            [
             0.4444444444444444,
             "#bd3786"
            ],
            [
             0.5555555555555556,
             "#d8576b"
            ],
            [
             0.6666666666666666,
             "#ed7953"
            ],
            [
             0.7777777777777778,
             "#fb9f3a"
            ],
            [
             0.8888888888888888,
             "#fdca26"
            ],
            [
             1,
             "#f0f921"
            ]
           ]
          },
          "colorway": [
           "#636efa",
           "#EF553B",
           "#00cc96",
           "#ab63fa",
           "#FFA15A",
           "#19d3f3",
           "#FF6692",
           "#B6E880",
           "#FF97FF",
           "#FECB52"
          ],
          "font": {
           "color": "#2a3f5f"
          },
          "geo": {
           "bgcolor": "white",
           "lakecolor": "white",
           "landcolor": "#E5ECF6",
           "showlakes": true,
           "showland": true,
           "subunitcolor": "white"
          },
          "hoverlabel": {
           "align": "left"
          },
          "hovermode": "closest",
          "mapbox": {
           "style": "light"
          },
          "paper_bgcolor": "white",
          "plot_bgcolor": "#E5ECF6",
          "polar": {
           "angularaxis": {
            "gridcolor": "white",
            "linecolor": "white",
            "ticks": ""
           },
           "bgcolor": "#E5ECF6",
           "radialaxis": {
            "gridcolor": "white",
            "linecolor": "white",
            "ticks": ""
           }
          },
          "scene": {
           "xaxis": {
            "backgroundcolor": "#E5ECF6",
            "gridcolor": "white",
            "gridwidth": 2,
            "linecolor": "white",
            "showbackground": true,
            "ticks": "",
            "zerolinecolor": "white"
           },
           "yaxis": {
            "backgroundcolor": "#E5ECF6",
            "gridcolor": "white",
            "gridwidth": 2,
            "linecolor": "white",
            "showbackground": true,
            "ticks": "",
            "zerolinecolor": "white"
           },
           "zaxis": {
            "backgroundcolor": "#E5ECF6",
            "gridcolor": "white",
            "gridwidth": 2,
            "linecolor": "white",
            "showbackground": true,
            "ticks": "",
            "zerolinecolor": "white"
           }
          },
          "shapedefaults": {
           "line": {
            "color": "#2a3f5f"
           }
          },
          "ternary": {
           "aaxis": {
            "gridcolor": "white",
            "linecolor": "white",
            "ticks": ""
           },
           "baxis": {
            "gridcolor": "white",
            "linecolor": "white",
            "ticks": ""
           },
           "bgcolor": "#E5ECF6",
           "caxis": {
            "gridcolor": "white",
            "linecolor": "white",
            "ticks": ""
           }
          },
          "title": {
           "x": 0.05
          },
          "xaxis": {
           "automargin": true,
           "gridcolor": "white",
           "linecolor": "white",
           "ticks": "",
           "title": {
            "standoff": 15
           },
           "zerolinecolor": "white",
           "zerolinewidth": 2
          },
          "yaxis": {
           "automargin": true,
           "gridcolor": "white",
           "linecolor": "white",
           "ticks": "",
           "title": {
            "standoff": 15
           },
           "zerolinecolor": "white",
           "zerolinewidth": 2
          }
         }
        },
        "xaxis": {
         "anchor": "y",
         "domain": [
          0,
          0.45
         ],
         "title": {
          "text": "Epoch"
         }
        },
        "xaxis2": {
         "anchor": "y2",
         "domain": [
          0.55,
          1
         ],
         "title": {
          "text": "trip_miles"
         }
        },
        "yaxis": {
         "anchor": "x",
         "domain": [
          0,
          1
         ],
         "range": [
          3.6721492767333985,
          15.697285652160645
         ],
         "title": {
          "text": "Root Mean Squared Error"
         }
        },
        "yaxis2": {
         "anchor": "x2",
         "domain": [
          0,
          1
         ],
         "title": {
          "text": "fare"
         }
        }
       }
      }
     },
     "metadata": {},
     "output_type": "display_data"
    }
   ],
   "source": [
    "# The following variables are the hyperparameters.\n",
    "learning_rate = 0.001\n",
    "epochs = 20\n",
    "batch_size = 500\n",
    "\n",
    "# Specify the feature and the label.\n",
    "features = [\"trip_miles\"]\n",
    "label = \"fare\"\n",
    "\n",
    "model_1 = run_experiment(fare_df, features, label, learning_rate, epochs, batch_size)"
   ]
  },
  {
   "cell_type": "markdown",
   "id": "247eb6d2",
   "metadata": {},
   "source": [
    "## Results of the Fourth Experiment with Only `trip_miles` - Increasing the Batch Size to 500 and Using the Original Learning Rate - 0.001\n",
    "\n",
    "* With this set of hyperparameters\n",
    "    * Learning Rate = 0.001\n",
    "    * Epochs = 20\n",
    "    * batch size Equal to 500 \n",
    "\n",
    "In neural networks, increasing the batch size makes each epoch run faster, but as with the smaller learning rate, the model does not converge with just 20 epochs.\n",
    "\n",
    "The issue with increasing batch size is that it can slow down model training because it can cause adjusts in weight values which in turn increase the amount of time for the model to converge because each epoch is using more and more data. \n",
    "\n",
    "In this example, I see that the loss curve decreases slowly, but does not show a dramatic drop or leveling off. In fact, the last lost rate is greater than when I used a learning rate of 0.001 and a batch size of 50\n",
    "\n",
    "Additionally,the eventual predicted model does not fit the data very well. I am not getting good results. I will not use this model.\n"
   ]
  },
  {
   "cell_type": "markdown",
   "id": "52f3644f",
   "metadata": {},
   "source": [
    "----\n",
    "\n",
    "## Now I can add more features\n",
    "\n",
    "The cross correlation implied that trip_seconds had a strong positive correlation with fare prices, so I will consider this feature.\n",
    "\n",
    "\n",
    "The guidance in the class is to convert trip_seconds into minutes. \n",
    "\n",
    "When training a model with more than one feature, it is important that all numeric values are roughly on the same scale. In this case, TRIP_SECONDS and\n",
    "TRIP_MILES do not meet this criteria. The mean value for TRIP_MILES is 8.3 and the mean for TRIP_SECONDS is 1320; that is two orders of magnitude difference.\n",
    "\n",
    "Converting the trip duration to minutes helps during training because in puts values for both features on a more comparable scale. Of course, this is not the only way to scale values before training\n",
    "\n",
    "So, I will use this recommendation to create the new feature and compare \n",
    "\n",
    "* trip_minutes\n",
    "* trip_miles \n",
    "\n",
    "with fare prices\n",
    "\n",
    "\n",
    "\n",
    "----"
   ]
  },
  {
   "cell_type": "markdown",
   "id": "451cbb0a",
   "metadata": {},
   "source": [
    "# Experiement: Multiple features - Trip_Miles and Trip_Minutes \n",
    "\n",
    "\n"
   ]
  },
  {
   "cell_type": "code",
   "execution_count": 67,
   "id": "e38d4b62",
   "metadata": {},
   "outputs": [
    {
     "name": "stdout",
     "output_type": "stream",
     "text": [
      "INFO: starting training experiment with features=['trip_miles', 'trip_minutes'] and label=fare\n",
      "\n",
      "Epoch 1/20\n",
      "\u001b[1m634/634\u001b[0m \u001b[32m━━━━━━━━━━━━━━━━━━━━\u001b[0m\u001b[37m\u001b[0m \u001b[1m0s\u001b[0m 251us/step - loss: 1544.7292 - root_mean_squared_error: 39.1679\n",
      "Epoch 2/20\n",
      "\u001b[1m634/634\u001b[0m \u001b[32m━━━━━━━━━━━━━━━━━━━━\u001b[0m\u001b[37m\u001b[0m \u001b[1m0s\u001b[0m 240us/step - loss: 316.5458 - root_mean_squared_error: 17.6715\n",
      "Epoch 3/20\n",
      "\u001b[1m634/634\u001b[0m \u001b[32m━━━━━━━━━━━━━━━━━━━━\u001b[0m\u001b[37m\u001b[0m \u001b[1m0s\u001b[0m 236us/step - loss: 82.4185 - root_mean_squared_error: 9.0688\n",
      "Epoch 4/20\n",
      "\u001b[1m634/634\u001b[0m \u001b[32m━━━━━━━━━━━━━━━━━━━━\u001b[0m\u001b[37m\u001b[0m \u001b[1m0s\u001b[0m 241us/step - loss: 53.0376 - root_mean_squared_error: 7.2749\n",
      "Epoch 5/20\n",
      "\u001b[1m634/634\u001b[0m \u001b[32m━━━━━━━━━━━━━━━━━━━━\u001b[0m\u001b[37m\u001b[0m \u001b[1m0s\u001b[0m 239us/step - loss: 31.8917 - root_mean_squared_error: 5.6425\n",
      "Epoch 6/20\n",
      "\u001b[1m634/634\u001b[0m \u001b[32m━━━━━━━━━━━━━━━━━━━━\u001b[0m\u001b[37m\u001b[0m \u001b[1m0s\u001b[0m 238us/step - loss: 19.9056 - root_mean_squared_error: 4.4476\n",
      "Epoch 7/20\n",
      "\u001b[1m634/634\u001b[0m \u001b[32m━━━━━━━━━━━━━━━━━━━━\u001b[0m\u001b[37m\u001b[0m \u001b[1m0s\u001b[0m 237us/step - loss: 12.8787 - root_mean_squared_error: 3.5821\n",
      "Epoch 8/20\n",
      "\u001b[1m634/634\u001b[0m \u001b[32m━━━━━━━━━━━━━━━━━━━━\u001b[0m\u001b[37m\u001b[0m \u001b[1m0s\u001b[0m 241us/step - loss: 12.9552 - root_mean_squared_error: 3.5799\n",
      "Epoch 9/20\n",
      "\u001b[1m634/634\u001b[0m \u001b[32m━━━━━━━━━━━━━━━━━━━━\u001b[0m\u001b[37m\u001b[0m \u001b[1m0s\u001b[0m 250us/step - loss: 11.8785 - root_mean_squared_error: 3.4443\n",
      "Epoch 10/20\n",
      "\u001b[1m634/634\u001b[0m \u001b[32m━━━━━━━━━━━━━━━━━━━━\u001b[0m\u001b[37m\u001b[0m \u001b[1m0s\u001b[0m 239us/step - loss: 10.5811 - root_mean_squared_error: 3.2396\n",
      "Epoch 11/20\n",
      "\u001b[1m634/634\u001b[0m \u001b[32m━━━━━━━━━━━━━━━━━━━━\u001b[0m\u001b[37m\u001b[0m \u001b[1m0s\u001b[0m 239us/step - loss: 9.8655 - root_mean_squared_error: 3.1303\n",
      "Epoch 12/20\n",
      "\u001b[1m634/634\u001b[0m \u001b[32m━━━━━━━━━━━━━━━━━━━━\u001b[0m\u001b[37m\u001b[0m \u001b[1m0s\u001b[0m 239us/step - loss: 11.2725 - root_mean_squared_error: 3.3445\n",
      "Epoch 13/20\n",
      "\u001b[1m634/634\u001b[0m \u001b[32m━━━━━━━━━━━━━━━━━━━━\u001b[0m\u001b[37m\u001b[0m \u001b[1m0s\u001b[0m 248us/step - loss: 12.3860 - root_mean_squared_error: 3.5147\n",
      "Epoch 14/20\n",
      "\u001b[1m634/634\u001b[0m \u001b[32m━━━━━━━━━━━━━━━━━━━━\u001b[0m\u001b[37m\u001b[0m \u001b[1m0s\u001b[0m 243us/step - loss: 12.0820 - root_mean_squared_error: 3.4709\n",
      "Epoch 15/20\n",
      "\u001b[1m634/634\u001b[0m \u001b[32m━━━━━━━━━━━━━━━━━━━━\u001b[0m\u001b[37m\u001b[0m \u001b[1m0s\u001b[0m 245us/step - loss: 10.9451 - root_mean_squared_error: 3.2965\n",
      "Epoch 16/20\n",
      "\u001b[1m634/634\u001b[0m \u001b[32m━━━━━━━━━━━━━━━━━━━━\u001b[0m\u001b[37m\u001b[0m \u001b[1m0s\u001b[0m 237us/step - loss: 14.0111 - root_mean_squared_error: 3.7332\n",
      "Epoch 17/20\n",
      "\u001b[1m634/634\u001b[0m \u001b[32m━━━━━━━━━━━━━━━━━━━━\u001b[0m\u001b[37m\u001b[0m \u001b[1m0s\u001b[0m 236us/step - loss: 11.5682 - root_mean_squared_error: 3.3915\n",
      "Epoch 18/20\n",
      "\u001b[1m634/634\u001b[0m \u001b[32m━━━━━━━━━━━━━━━━━━━━\u001b[0m\u001b[37m\u001b[0m \u001b[1m0s\u001b[0m 238us/step - loss: 11.0186 - root_mean_squared_error: 3.3100\n",
      "Epoch 19/20\n",
      "\u001b[1m634/634\u001b[0m \u001b[32m━━━━━━━━━━━━━━━━━━━━\u001b[0m\u001b[37m\u001b[0m \u001b[1m0s\u001b[0m 255us/step - loss: 11.6241 - root_mean_squared_error: 3.4043\n",
      "Epoch 20/20\n",
      "\u001b[1m634/634\u001b[0m \u001b[32m━━━━━━━━━━━━━━━━━━━━\u001b[0m\u001b[37m\u001b[0m \u001b[1m0s\u001b[0m 241us/step - loss: 12.6085 - root_mean_squared_error: 3.5379\n",
      "\n",
      "SUCCESS: training experiment complete\n",
      "\n",
      "--------------------------------------------------------------------------------\n",
      "|                                  MODEL INFO                                  |\n",
      "--------------------------------------------------------------------------------\n",
      "Weight for feature[trip_miles]: 2.022\n",
      "Weight for feature[trip_minutes]: 0.148\n",
      "Bias: 3.821\n",
      "\n",
      "fare = 2.022 * trip_miles + 0.148 * trip_minutes + 3.821\n",
      "\n"
     ]
    },
    {
     "data": {
      "application/vnd.plotly.v1+json": {
       "config": {
        "plotlyServerURL": "https://plot.ly"
       },
       "data": [
        {
         "hovertemplate": "trip_miles=%{x}<br>trip_minutes=%{y}<br>fare=%{z}<extra></extra>",
         "legendgroup": "",
         "marker": {
          "color": "#636efa",
          "symbol": "circle"
         },
         "mode": "markers",
         "name": "",
         "scene": "scene",
         "showlegend": false,
         "type": "scatter3d",
         "x": {
          "bdata": "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",
          "dtype": "f8"
         },
         "y": {
          "bdata": "7+7u7u7uKkARERERERExQBERERERsUhAAAAAAAAATkAAAAAAAAAQQHd3d3d39zFAvLu7u7ubR0BmZmZmZuYqQN7d3d3dXUBAREREREREJkAAAAAAAABBQCIiIiIiIhVAAAAAAAAALEBmZmZmZiY3QAAAAAAAADxA3t3d3d39RkAAAAAAAABAQFVVVVVV1ShAAAAAAAAAM0B3d3d3d9dAQAAAAAAAgENAAAAAAACAQUAzMzMzMzMYQBEREREREUVAVVVVVVUVQ0AAAAAAAIBBQGZmZmZmZh1AREREREREF0CrqqqqqgpIQAAAAAAAwEdAq6qqqqoqNUB3d3d3d/csQFVVVVVVVRBAAAAAAAAAGECrqqqqqmowQDMzMzMzMztAAAAAAAAACEAzMzMzM1NSQHd3d3d3dx9A3t3d3d3dHkAAAAAAAAAiQImIiIiIyDpAAAAAAACARUCrqqqqqopNQCIiIiIiIjFAAAAAAAAAGEDv7u7u7m4zQO/u7u7uLkJAvLu7u7vbUUAAAAAAAAAmQAAAAAAAABRAAAAAAAAAH0AREREREXFEQAAAAAAAABBAzczMzMyMUEBVVVVVVdUgQEREREREBDhAd3d3d3f3MUAAAAAAAAAkQGZmZmZm5idAZmZmZmbmK0AAAAAAAAAmQAAAAAAAgEZA7+7u7u5uM0AzMzMzM7MkQAAAAAAAAChAVVVVVVXVJEAAAAAAAAA+QAAAAAAAIElAvLu7u7u7MEB3d3d3d3cdQDMzMzMzsyxAAAAAAAAAHEBEREREREQdQAAAAAAAAEdAZmZmZmbmJ0AzMzMzMzMZQN7d3d3d3RVAAAAAAAAANUDv7u7u7m4wQAAAAAAAAEVAvLu7u7s7QECJiIiIiIgoQN7d3d3dfUJAiYiIiIgIPkDNzMzMzCxGQFVVVVVVVTJAAAAAAAAAGEDe3d3d3R0zQJqZmZmZ+URAVVVVVVVVHUDv7u7u7u4WQCIiIiIiIhVAVVVVVVVVOUAAAAAAAIAoQAAAAAAAADhAd3d3d3d3GEAREREREbFFQAAAAAAAACBAERERERGxQEAAAAAAAIBCQLy7u7u7uyBAAAAAAAAAN0AAAAAAAMAzQImIiIiIqENAAAAAAAAAGEBmZmZmZuYpQAAAAAAAADdAq6qqqqqqI0AAAAAAAABQQBERERERET5Aq6qqqqqqIUC8u7u7u3s/QLy7u7u7uypAVVVVVVVVFEAAAAAAAAAqQCIiIiIioiJAAAAAAAAAKkAAAAAAAAAgQAAAAAAAAChAMzMzMzOzOEBERERERAQ/QM3MzMzMTC1AAAAAAADgSkCamZmZmdlEQAAAAAAAAEBAAAAAAAAgTEDv7u7u7u4cQGZmZmZmpkFAd3d3d3d3EkAAAAAAAAAYQFVVVVVVNUNAmpmZmZl5QUCrqqqqqqomQFVVVVVVFTlAERERERERGECJiIiIiAgwQO/u7u7uLjtAAAAAAAAAIkAAAAAAAABDQBERERER0UVAVVVVVVVVEEDNzMzMzEwhQM3MzMzMDDFAzczMzMzMEEBERERERMQgQAAAAAAAADlAERERERGRNUAAAAAAAABKQImIiIiIiDdAAAAAAACAJ0AAAAAAAIBDQAAAAAAAAC5AVVVVVVVVIUBVVVVVVdUsQAAAAAAAACpAmpmZmZmZFUDv7u7u7q40QDMzMzMzMzBAiYiIiIjoRECrqqqqqkpBQM3MzMzMzBBAAAAAAAAAGUCJiIiIiMg7QLy7u7u7OyNAzczMzMyMPUAREREREREYQJqZmZmZmQtAMzMzMzOzKkAAAAAAAGBFQAAAAAAAgCZAzczMzMwMMEAREREREREZQDMzMzMzczZAAAAAAACAQUDv7u7u7u4VQJqZmZmZmSxAAAAAAAAAIEAAAAAAAAAbQEREREREJERAIiIiIiIiTUDe3d3d3R00QAAAAAAAAD5AmpmZmZmZGUARERERETFCQJqZmZmZWTtAzczMzMyMTkBEREREREQqQDMzMzMzMx9AERERERERG0CamZmZmVkzQAAAAAAAgElAVVVVVVVVIkAAAAAAAAAWQO/u7u7ubjFAZmZmZmZmGUBVVVVVVVU9QFVVVVVV1SNAAAAAAAAAMEAiIiIiIoJEQA==",
          "dtype": "f8"
         },
         "z": {
          "bdata": "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",
          "dtype": "f8"
         }
        },
        {
         "colorscale": [
          [
           0,
           "#89CFF0"
          ],
          [
           1,
           "#FFDB58"
          ]
         ],
         "scene": "scene",
         "type": "surface",
         "x": {
          "bdata": "7vP3KHcE4j+7hTl0CCAkQGYtcQeadzhA",
          "dtype": "f8"
         },
         "y": {
          "bdata": "AAAAAAAACEAzMzMzM5NBQDMzMzMzU1JA",
          "dtype": "f8"
         },
         "z": [
          [
           5.404952958673238,
           29.388644896224143,
           64.18224275112152
          ],
          [
           5.404952958673238,
           29.388644896224143,
           64.18224275112152
          ],
          [
           5.404952958673238,
           29.388644896224143,
           64.18224275112152
          ]
         ]
        },
        {
         "hovertemplate": "x=%{x}<br>y=%{y}<extra></extra>",
         "legendgroup": "",
         "line": {
          "color": "#ff0000",
          "dash": "solid",
          "width": 3
         },
         "marker": {
          "symbol": "circle"
         },
         "mode": "lines",
         "name": "",
         "orientation": "v",
         "showlegend": false,
         "type": "scatter",
         "x": {
          "bdata": "AAECAwQFBgcICQoLDA0ODxAREhM=",
          "dtype": "i1"
         },
         "xaxis": "x",
         "y": {
          "bdata": "AAAAoM/yQEAAAACgYAQtQAAAAGBhKiFAAAAAoIRMG0AAAAAACBoVQAAAAMBEqhBAAAAA4EppDUAAAADAmlUMQAAAAKD+CgxAAAAAQJrtC0AAAABAht4LQAAAAMCC1wtAAAAAoKjVC0AAAADAW9MLQAAAAAA31AtAAAAAYJrSC0AAAACAZNMLQAAAACCW0gtAAAAA4HnTC0AAAAAgUtMLQA==",
          "dtype": "f8"
         },
         "yaxis": "y"
        }
       ],
       "layout": {
        "annotations": [
         {
          "font": {
           "size": 16
          },
          "showarrow": false,
          "text": "Loss Curve",
          "x": 0.225,
          "xanchor": "center",
          "xref": "paper",
          "y": 1,
          "yanchor": "bottom",
          "yref": "paper"
         },
         {
          "font": {
           "size": 16
          },
          "showarrow": false,
          "text": "Model Plot",
          "x": 0.775,
          "xanchor": "center",
          "xref": "paper",
          "y": 1,
          "yanchor": "bottom",
          "yref": "paper"
         }
        ],
        "scene": {
         "domain": {
          "x": [
           0.55,
           1
          ],
          "y": [
           0,
           1
          ]
         },
         "xaxis": {
          "title": {
           "text": "trip_miles"
          }
         },
         "yaxis": {
          "title": {
           "text": "trip_minutes"
          }
         },
         "zaxis": {
          "title": {
           "text": "fare"
          }
         }
        },
        "template": {
         "data": {
          "bar": [
           {
            "error_x": {
             "color": "#2a3f5f"
            },
            "error_y": {
             "color": "#2a3f5f"
            },
            "marker": {
             "line": {
              "color": "#E5ECF6",
              "width": 0.5
             },
             "pattern": {
              "fillmode": "overlay",
              "size": 10,
              "solidity": 0.2
             }
            },
            "type": "bar"
           }
          ],
          "barpolar": [
           {
            "marker": {
             "line": {
              "color": "#E5ECF6",
              "width": 0.5
             },
             "pattern": {
              "fillmode": "overlay",
              "size": 10,
              "solidity": 0.2
             }
            },
            "type": "barpolar"
           }
          ],
          "carpet": [
           {
            "aaxis": {
             "endlinecolor": "#2a3f5f",
             "gridcolor": "white",
             "linecolor": "white",
             "minorgridcolor": "white",
             "startlinecolor": "#2a3f5f"
            },
            "baxis": {
             "endlinecolor": "#2a3f5f",
             "gridcolor": "white",
             "linecolor": "white",
             "minorgridcolor": "white",
             "startlinecolor": "#2a3f5f"
            },
            "type": "carpet"
           }
          ],
          "choropleth": [
           {
            "colorbar": {
             "outlinewidth": 0,
             "ticks": ""
            },
            "type": "choropleth"
           }
          ],
          "contour": [
           {
            "colorbar": {
             "outlinewidth": 0,
             "ticks": ""
            },
            "colorscale": [
             [
              0,
              "#0d0887"
             ],
             [
              0.1111111111111111,
              "#46039f"
             ],
             [
              0.2222222222222222,
              "#7201a8"
             ],
             [
              0.3333333333333333,
              "#9c179e"
             ],
             [
              0.4444444444444444,
              "#bd3786"
             ],
             [
              0.5555555555555556,
              "#d8576b"
             ],
             [
              0.6666666666666666,
              "#ed7953"
             ],
             [
              0.7777777777777778,
              "#fb9f3a"
             ],
             [
              0.8888888888888888,
              "#fdca26"
             ],
             [
              1,
              "#f0f921"
             ]
            ],
            "type": "contour"
           }
          ],
          "contourcarpet": [
           {
            "colorbar": {
             "outlinewidth": 0,
             "ticks": ""
            },
            "type": "contourcarpet"
           }
          ],
          "heatmap": [
           {
            "colorbar": {
             "outlinewidth": 0,
             "ticks": ""
            },
            "colorscale": [
             [
              0,
              "#0d0887"
             ],
             [
              0.1111111111111111,
              "#46039f"
             ],
             [
              0.2222222222222222,
              "#7201a8"
             ],
             [
              0.3333333333333333,
              "#9c179e"
             ],
             [
              0.4444444444444444,
              "#bd3786"
             ],
             [
              0.5555555555555556,
              "#d8576b"
             ],
             [
              0.6666666666666666,
              "#ed7953"
             ],
             [
              0.7777777777777778,
              "#fb9f3a"
             ],
             [
              0.8888888888888888,
              "#fdca26"
             ],
             [
              1,
              "#f0f921"
             ]
            ],
            "type": "heatmap"
           }
          ],
          "histogram": [
           {
            "marker": {
             "pattern": {
              "fillmode": "overlay",
              "size": 10,
              "solidity": 0.2
             }
            },
            "type": "histogram"
           }
          ],
          "histogram2d": [
           {
            "colorbar": {
             "outlinewidth": 0,
             "ticks": ""
            },
            "colorscale": [
             [
              0,
              "#0d0887"
             ],
             [
              0.1111111111111111,
              "#46039f"
             ],
             [
              0.2222222222222222,
              "#7201a8"
             ],
             [
              0.3333333333333333,
              "#9c179e"
             ],
             [
              0.4444444444444444,
              "#bd3786"
             ],
             [
              0.5555555555555556,
              "#d8576b"
             ],
             [
              0.6666666666666666,
              "#ed7953"
             ],
             [
              0.7777777777777778,
              "#fb9f3a"
             ],
             [
              0.8888888888888888,
              "#fdca26"
             ],
             [
              1,
              "#f0f921"
             ]
            ],
            "type": "histogram2d"
           }
          ],
          "histogram2dcontour": [
           {
            "colorbar": {
             "outlinewidth": 0,
             "ticks": ""
            },
            "colorscale": [
             [
              0,
              "#0d0887"
             ],
             [
              0.1111111111111111,
              "#46039f"
             ],
             [
              0.2222222222222222,
              "#7201a8"
             ],
             [
              0.3333333333333333,
              "#9c179e"
             ],
             [
              0.4444444444444444,
              "#bd3786"
             ],
             [
              0.5555555555555556,
              "#d8576b"
             ],
             [
              0.6666666666666666,
              "#ed7953"
             ],
             [
              0.7777777777777778,
              "#fb9f3a"
             ],
             [
              0.8888888888888888,
              "#fdca26"
             ],
             [
              1,
              "#f0f921"
             ]
            ],
            "type": "histogram2dcontour"
           }
          ],
          "mesh3d": [
           {
            "colorbar": {
             "outlinewidth": 0,
             "ticks": ""
            },
            "type": "mesh3d"
           }
          ],
          "parcoords": [
           {
            "line": {
             "colorbar": {
              "outlinewidth": 0,
              "ticks": ""
             }
            },
            "type": "parcoords"
           }
          ],
          "pie": [
           {
            "automargin": true,
            "type": "pie"
           }
          ],
          "scatter": [
           {
            "fillpattern": {
             "fillmode": "overlay",
             "size": 10,
             "solidity": 0.2
            },
            "type": "scatter"
           }
          ],
          "scatter3d": [
           {
            "line": {
             "colorbar": {
              "outlinewidth": 0,
              "ticks": ""
             }
            },
            "marker": {
             "colorbar": {
              "outlinewidth": 0,
              "ticks": ""
             }
            },
            "type": "scatter3d"
           }
          ],
          "scattercarpet": [
           {
            "marker": {
             "colorbar": {
              "outlinewidth": 0,
              "ticks": ""
             }
            },
            "type": "scattercarpet"
           }
          ],
          "scattergeo": [
           {
            "marker": {
             "colorbar": {
              "outlinewidth": 0,
              "ticks": ""
             }
            },
            "type": "scattergeo"
           }
          ],
          "scattergl": [
           {
            "marker": {
             "colorbar": {
              "outlinewidth": 0,
              "ticks": ""
             }
            },
            "type": "scattergl"
           }
          ],
          "scattermap": [
           {
            "marker": {
             "colorbar": {
              "outlinewidth": 0,
              "ticks": ""
             }
            },
            "type": "scattermap"
           }
          ],
          "scattermapbox": [
           {
            "marker": {
             "colorbar": {
              "outlinewidth": 0,
              "ticks": ""
             }
            },
            "type": "scattermapbox"
           }
          ],
          "scatterpolar": [
           {
            "marker": {
             "colorbar": {
              "outlinewidth": 0,
              "ticks": ""
             }
            },
            "type": "scatterpolar"
           }
          ],
          "scatterpolargl": [
           {
            "marker": {
             "colorbar": {
              "outlinewidth": 0,
              "ticks": ""
             }
            },
            "type": "scatterpolargl"
           }
          ],
          "scatterternary": [
           {
            "marker": {
             "colorbar": {
              "outlinewidth": 0,
              "ticks": ""
             }
            },
            "type": "scatterternary"
           }
          ],
          "surface": [
           {
            "colorbar": {
             "outlinewidth": 0,
             "ticks": ""
            },
            "colorscale": [
             [
              0,
              "#0d0887"
             ],
             [
              0.1111111111111111,
              "#46039f"
             ],
             [
              0.2222222222222222,
              "#7201a8"
             ],
             [
              0.3333333333333333,
              "#9c179e"
             ],
             [
              0.4444444444444444,
              "#bd3786"
             ],
             [
              0.5555555555555556,
              "#d8576b"
             ],
             [
              0.6666666666666666,
              "#ed7953"
             ],
             [
              0.7777777777777778,
              "#fb9f3a"
             ],
             [
              0.8888888888888888,
              "#fdca26"
             ],
             [
              1,
              "#f0f921"
             ]
            ],
            "type": "surface"
           }
          ],
          "table": [
           {
            "cells": {
             "fill": {
              "color": "#EBF0F8"
             },
             "line": {
              "color": "white"
             }
            },
            "header": {
             "fill": {
              "color": "#C8D4E3"
             },
             "line": {
              "color": "white"
             }
            },
            "type": "table"
           }
          ]
         },
         "layout": {
          "annotationdefaults": {
           "arrowcolor": "#2a3f5f",
           "arrowhead": 0,
           "arrowwidth": 1
          },
          "autotypenumbers": "strict",
          "coloraxis": {
           "colorbar": {
            "outlinewidth": 0,
            "ticks": ""
           }
          },
          "colorscale": {
           "diverging": [
            [
             0,
             "#8e0152"
            ],
            [
             0.1,
             "#c51b7d"
            ],
            [
             0.2,
             "#de77ae"
            ],
            [
             0.3,
             "#f1b6da"
            ],
            [
             0.4,
             "#fde0ef"
            ],
            [
             0.5,
             "#f7f7f7"
            ],
            [
             0.6,
             "#e6f5d0"
            ],
            [
             0.7,
             "#b8e186"
            ],
            [
             0.8,
             "#7fbc41"
            ],
            [
             0.9,
             "#4d9221"
            ],
            [
             1,
             "#276419"
            ]
           ],
           "sequential": [
            [
             0,
             "#0d0887"
            ],
            [
             0.1111111111111111,
             "#46039f"
            ],
            [
             0.2222222222222222,
             "#7201a8"
            ],
            [
             0.3333333333333333,
             "#9c179e"
            ],
            [
             0.4444444444444444,
             "#bd3786"
            ],
            [
             0.5555555555555556,
             "#d8576b"
            ],
            [
             0.6666666666666666,
             "#ed7953"
            ],
            [
             0.7777777777777778,
             "#fb9f3a"
            ],
            [
             0.8888888888888888,
             "#fdca26"
            ],
            [
             1,
             "#f0f921"
            ]
           ],
           "sequentialminus": [
            [
             0,
             "#0d0887"
            ],
            [
             0.1111111111111111,
             "#46039f"
            ],
            [
             0.2222222222222222,
             "#7201a8"
            ],
            [
             0.3333333333333333,
             "#9c179e"
            ],
            [
             0.4444444444444444,
             "#bd3786"
            ],
            [
             0.5555555555555556,
             "#d8576b"
            ],
            [
             0.6666666666666666,
             "#ed7953"
            ],
            [
             0.7777777777777778,
             "#fb9f3a"
            ],
            [
             0.8888888888888888,
             "#fdca26"
            ],
            [
             1,
             "#f0f921"
            ]
           ]
          },
          "colorway": [
           "#636efa",
           "#EF553B",
           "#00cc96",
           "#ab63fa",
           "#FFA15A",
           "#19d3f3",
           "#FF6692",
           "#B6E880",
           "#FF97FF",
           "#FECB52"
          ],
          "font": {
           "color": "#2a3f5f"
          },
          "geo": {
           "bgcolor": "white",
           "lakecolor": "white",
           "landcolor": "#E5ECF6",
           "showlakes": true,
           "showland": true,
           "subunitcolor": "white"
          },
          "hoverlabel": {
           "align": "left"
          },
          "hovermode": "closest",
          "mapbox": {
           "style": "light"
          },
          "paper_bgcolor": "white",
          "plot_bgcolor": "#E5ECF6",
          "polar": {
           "angularaxis": {
            "gridcolor": "white",
            "linecolor": "white",
            "ticks": ""
           },
           "bgcolor": "#E5ECF6",
           "radialaxis": {
            "gridcolor": "white",
            "linecolor": "white",
            "ticks": ""
           }
          },
          "scene": {
           "xaxis": {
            "backgroundcolor": "#E5ECF6",
            "gridcolor": "white",
            "gridwidth": 2,
            "linecolor": "white",
            "showbackground": true,
            "ticks": "",
            "zerolinecolor": "white"
           },
           "yaxis": {
            "backgroundcolor": "#E5ECF6",
            "gridcolor": "white",
            "gridwidth": 2,
            "linecolor": "white",
            "showbackground": true,
            "ticks": "",
            "zerolinecolor": "white"
           },
           "zaxis": {
            "backgroundcolor": "#E5ECF6",
            "gridcolor": "white",
            "gridwidth": 2,
            "linecolor": "white",
            "showbackground": true,
            "ticks": "",
            "zerolinecolor": "white"
           }
          },
          "shapedefaults": {
           "line": {
            "color": "#2a3f5f"
           }
          },
          "ternary": {
           "aaxis": {
            "gridcolor": "white",
            "linecolor": "white",
            "ticks": ""
           },
           "baxis": {
            "gridcolor": "white",
            "linecolor": "white",
            "ticks": ""
           },
           "bgcolor": "#E5ECF6",
           "caxis": {
            "gridcolor": "white",
            "linecolor": "white",
            "ticks": ""
           }
          },
          "title": {
           "x": 0.05
          },
          "xaxis": {
           "automargin": true,
           "gridcolor": "white",
           "linecolor": "white",
           "ticks": "",
           "title": {
            "standoff": 15
           },
           "zerolinecolor": "white",
           "zerolinewidth": 2
          },
          "yaxis": {
           "automargin": true,
           "gridcolor": "white",
           "linecolor": "white",
           "ticks": "",
           "title": {
            "standoff": 15
           },
           "zerolinecolor": "white",
           "zerolinewidth": 2
          }
         }
        },
        "xaxis": {
         "anchor": "y",
         "domain": [
          0,
          0.45
         ],
         "title": {
          "text": "Epoch"
         }
        },
        "yaxis": {
         "anchor": "x",
         "domain": [
          0,
          1
         ],
         "range": [
          2.782260322570801,
          33.8969612121582
         ],
         "title": {
          "text": "Root Mean Squared Error"
         }
        }
       }
      }
     },
     "metadata": {},
     "output_type": "display_data"
    }
   ],
   "source": [
    "learning_rate = 0.001\n",
    "epochs = 20\n",
    "batch_size = 50\n",
    "\n",
    "fare_df.loc[:, \"trip_minutes\"] = fare_df[\"trip_seconds\"]/60\n",
    "\n",
    "features = [\"trip_miles\", \"trip_minutes\"]\n",
    "label = \"fare\"\n",
    "\n",
    "model_2 = run_experiment(fare_df, features, label, learning_rate, epochs, batch_size)"
   ]
  },
  {
   "cell_type": "markdown",
   "id": "1f4d5243",
   "metadata": {},
   "source": [
    "# Results: Experiement: Multiple features - Trip_Miles and Trip_Minutes\n",
    "\n",
    "This new model performs better!\n",
    "\n",
    "The loss appears to level off at about 3 Epochs for the training data, so we can say it start so converge to the final model at that point.\n",
    "\n",
    "In the scatter plot of fare vs trip_miles vs trip_minutes, the derived model appears to fit the data fairly well. \n",
    "\n",
    "\n",
    "\n",
    "## Final results\n",
    "The model comes close to the ground truth model documenated Chicago Taxi Cab usage forumla.\n",
    "\n",
    "\n",
    "```FARE = 2.25 * trip_miles + 0.12 * trip_minutes + 3.25```\n",
    "\n",
    "\n",
    "`My model` has the following form:\n",
    "\n",
    "```fare = 2.03 * trip_miles + 0.15 * trip_minutes + 3.84```\n",
    "\n"
   ]
  },
  {
   "cell_type": "markdown",
   "id": "2659f67c",
   "metadata": {},
   "source": [
    "---\n",
    "\n",
    "# Last Part - Validating The Model\n",
    "\n",
    "\n",
    "---\n",
    "\n",
    "\n",
    "### Making predictions using my derived model and the following methods\n"
   ]
  },
  {
   "cell_type": "markdown",
   "id": "9fbf854f",
   "metadata": {},
   "source": [
    "\"\"\"\n",
    "    Method to \"Train the model by feeding it data\n",
    "\n",
    "    Args:\n",
    "      df (pd.DataFrame): The taxi fare data frame of feature and values\n",
    "      feature_names (list[str]): The features used to build the model\n",
    "      label (str): The label or target variables\n",
    "      learning_rate (float): The learning rate for the keras model\n",
    "      epochs (np.ndarray): Array representing epochs\n",
    "      batch_size (int): Integer defining the number of batches used for training models\n",
    "\n",
    "    Returns:\n",
    "        (keras.Model): The prediction model\n",
    "  \"\"\""
   ]
  },
  {
   "cell_type": "code",
   "execution_count": 68,
   "id": "67ded536",
   "metadata": {},
   "outputs": [],
   "source": [
    "def format_currency(x: float) -> str:\n",
    "    \"\"\"\n",
    "    Method to formate the dollar values\n",
    "\n",
    "    Args:\n",
    "        x (float): dollar values\n",
    "\n",
    "    Returns:\n",
    "        (str): Dollar values\n",
    "    \"\"\"\n",
    "    return \"${:.2f}\".format(x)\n",
    "\n",
    "def build_batch(df: pd.DataFrame, batch_size: int) -> int:\n",
    "    \"\"\"\n",
    "    Method to build batchs from the data frame\n",
    "\n",
    "    Args:\n",
    "        df (pd.DataFrame): The taxi fare data frame of feature and values\n",
    "        batch_size (int): The batch size\n",
    "\n",
    "    Returns:\n",
    "        (str): Dollar values\n",
    "    \"\"\"\n",
    "    batch = df.sample(n=batch_size).copy()\n",
    "    batch.set_index(np.arange(batch_size), inplace=True)\n",
    "    return batch\n",
    "\n",
    "def predict_fare(model: keras.Model, df: pd.DataFrame, features: list[str], label: str, batch_size: int = 50) -> pd.DataFrame:\n",
    "    \"\"\"\n",
    "    Method to predict fare values\n",
    "\n",
    "    Args:\n",
    "        model (kearas.Model): The keras data model derived in this work\n",
    "        df (pd.DataFrame): The taxi fare data frame of feature and values\n",
    "        feature (list[str]): The features used to build the model\n",
    "        label (str): The label or target variables\n",
    "        batch_size (int): The batch size\n",
    "\n",
    "    Returns:\n",
    "        (pd.DataFrame): Pandas Dataframe of predicted_fare, observed_fare, L1_loss, trip_miles, and trip_minutes\n",
    "    \"\"\"\n",
    "    batch = build_batch(df, batch_size)\n",
    "    predicted_values = model.predict_on_batch(x=batch.loc[:, features].values)\n",
    "\n",
    "    data = {\"predicted_fare\": [], \"observed_loss\": [], \"L1_loss\": [],\n",
    "            features[0]: [], features[1]: []}\n",
    "    for i in range(batch_size):\n",
    "        predicted = predicted_values[i][0]\n",
    "        observed = batch.at[i, label]\n",
    "        data[\"predicted_fare\"].append(format_currency(predicted))\n",
    "        data[\"observed_loss\"].append(format_currency(observed))\n",
    "        data[\"L1_loss\"].append(format_currency(abs(observed - predicted)))\n",
    "        data[features[0]].append(batch.at[i, features[0]])\n",
    "        data[features[1]].append(\"{:.2f}\".format(batch.at[i, features[1]]))\n",
    "\n",
    "    output_df = pd.DataFrame(data)\n",
    "    return output_df\n",
    "\n",
    "def show_predictions(output: pd.DataFrame) -> str:\n",
    "    \"\"\"\n",
    "    Method to show predictions\n",
    "\n",
    "    Args:\n",
    "        output (pd.DataFrame): Pandas Dataframe of predicted_fare, observed_fare, L1_loss, trip_miles, and trip_minutes\n",
    "    \n",
    "    Returns:\n",
    "        (str): printing dataframe of predicted_fare, observed_fare, L1_loss, trip_miles, and trip_minutes\n",
    "    \"\"\"\n",
    "    header = \"-\" * 80\n",
    "    banner = header + \"\\n\" + \"|\" + \"PREDICTIONS\".center(78) + \"|\" + \"\\n\" + header\n",
    "    print(banner)\n",
    "    print(output)\n",
    "    return"
   ]
  },
  {
   "cell_type": "markdown",
   "id": "6a9dfbac",
   "metadata": {},
   "source": [
    "### Make Predictions"
   ]
  },
  {
   "cell_type": "code",
   "execution_count": 69,
   "id": "1b87633b",
   "metadata": {},
   "outputs": [
    {
     "name": "stdout",
     "output_type": "stream",
     "text": [
      "--------------------------------------------------------------------------------\n",
      "|                                 PREDICTIONS                                  |\n",
      "--------------------------------------------------------------------------------\n",
      "   predicted_fare observed_loss L1_loss  trip_miles trip_minutes\n",
      "0           $7.29         $6.50   $0.79        1.20         7.00\n",
      "1           $8.09         $8.25   $0.16        1.34        10.53\n",
      "2          $24.30        $25.50   $1.20        7.20        39.85\n",
      "3           $7.68         $7.25   $0.43        1.34         7.75\n",
      "4          $32.30        $32.25   $0.05       12.51        21.43\n",
      "5          $14.07        $15.00   $0.93        3.71        18.52\n",
      "6          $46.77        $44.50   $2.27       17.61        49.42\n",
      "7          $45.36        $44.00   $1.36       17.37        43.22\n",
      "8           $7.29         $7.00   $0.29        1.20         7.00\n",
      "9           $6.26         $5.50   $0.76        0.86         4.68\n",
      "10          $7.38         $7.00   $0.38        1.10         9.00\n",
      "11         $43.27        $42.25   $1.02       16.95        34.85\n",
      "12         $15.04        $13.75   $1.29        4.27        17.38\n",
      "13         $16.04        $15.00   $1.04        4.98        14.50\n",
      "14          $5.68         $5.00   $0.68        0.65         3.68\n",
      "15         $29.60        $30.75   $1.15        8.83        53.35\n",
      "16         $46.68        $46.75   $0.07       19.05        29.18\n",
      "17         $57.95        $59.75   $1.80       24.20        35.00\n",
      "18         $45.71        $44.75   $0.96       18.00        37.00\n",
      "19          $7.26         $7.00   $0.26        1.16         7.33\n",
      "20          $8.80         $8.50   $0.30        1.80         9.00\n",
      "21         $25.46        $27.75   $2.29        7.22        47.38\n",
      "22         $37.03        $49.17  $12.14       14.64        24.30\n",
      "23         $12.46        $10.91   $1.55        2.97        17.70\n",
      "24         $50.84        $48.25   $2.59       18.20        68.80\n",
      "25         $14.95        $14.25   $0.70        4.85         8.90\n",
      "26         $13.42        $13.00   $0.42        3.50        17.00\n",
      "27         $44.17        $44.50   $0.33       17.82        29.07\n",
      "28         $39.80        $38.75   $1.05       15.31        33.78\n",
      "29         $30.72        $30.25   $0.47       11.10        30.00\n",
      "30          $7.04         $6.50   $0.54        1.14         6.13\n",
      "31         $15.66        $15.00   $0.66        4.91        12.87\n",
      "32          $5.95         $5.25   $0.70        0.77         3.83\n",
      "33         $46.16        $44.75   $1.41       18.00        40.00\n",
      "34         $17.25        $17.50   $0.25        5.10        21.00\n",
      "35          $6.78         $6.25   $0.53        0.99         6.45\n",
      "36         $33.03        $33.00   $0.03       12.90        21.00\n",
      "37          $7.18         $6.75   $0.43        1.00         9.00\n",
      "38         $46.04        $45.00   $1.04       18.11        37.67\n",
      "39         $44.77        $42.75   $2.02       16.80        47.00\n",
      "40         $44.56        $42.75   $1.81       16.60        48.28\n",
      "41         $10.77        $11.25   $0.48        2.11        18.08\n",
      "42          $7.23         $9.00   $1.77        1.10         7.95\n",
      "43         $41.16        $41.75   $0.59       16.12        31.95\n",
      "44          $8.74         $8.75   $0.01        1.70        10.00\n",
      "45          $5.43         $4.75   $0.68        0.50         4.00\n",
      "46         $39.59        $39.25   $0.34       12.79        66.70\n",
      "47          $6.51         $6.25   $0.26        0.81         7.10\n",
      "48          $8.95         $8.50   $0.45        1.80        10.00\n",
      "49         $18.50        $16.45   $2.05        4.94        31.60\n"
     ]
    }
   ],
   "source": [
    "features = [\"trip_miles\", \"trip_minutes\"]\n",
    "label = \"fare\"\n",
    "\n",
    "output = predict_fare(model_2, fare_df, features, label)\n",
    "show_predictions(output)"
   ]
  },
  {
   "cell_type": "markdown",
   "id": "25123e89",
   "metadata": {},
   "source": []
  }
 ],
 "metadata": {
  "kernelspec": {
   "display_name": "ml_predict_taxi_fares",
   "language": "python",
   "name": "python3"
  },
  "language_info": {
   "codemirror_mode": {
    "name": "ipython",
    "version": 3
   },
   "file_extension": ".py",
   "mimetype": "text/x-python",
   "name": "python",
   "nbconvert_exporter": "python",
   "pygments_lexer": "ipython3",
   "version": "3.11.12"
  }
 },
 "nbformat": 4,
 "nbformat_minor": 5
}
