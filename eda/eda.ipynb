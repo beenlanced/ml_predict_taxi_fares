{
 "cells": [
  {
   "cell_type": "markdown",
   "id": "ad22e406",
   "metadata": {},
   "source": []
  }
 ],
 "metadata": {
  "kernelspec": {
   "display_name": "ml_predict_taxi_fares",
   "language": "python",
   "name": "python3"
  },
  "language_info": {
   "name": "python",
   "version": "3.11.12"
  }
 },
 "nbformat": 4,
 "nbformat_minor": 5
}
